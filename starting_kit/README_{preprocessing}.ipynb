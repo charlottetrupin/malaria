{
 "cells": [
  {
   "cell_type": "markdown",
   "metadata": {},
   "source": [
    "\n",
    "# MediChal Challenge - Detecting Malaria with cell Images\n",
    "\n",
    "____"
   ]
  },
  {
   "cell_type": "markdown",
   "metadata": {},
   "source": [
    "<img src=\"./logo.jpg\" width=\"200\" height=\"200\" align=\"left\"> \n",
    "\n",
    "## Team MEDICHAL :\n",
    "- Théo Deschamps-Berger\n",
    "- Simon Monteiro\n",
    "- Xienneng Xu\n",
    "- Nicolas Devatine\n",
    "- Clément Veyssière\n",
    "- Corentin Leloup\n",
    "- Ramine Hamidi\n"
   ]
  },
  {
   "cell_type": "markdown",
   "metadata": {},
   "source": [
    "<div style=\"background:#FFFFAA\">\n",
    "    <h2>Introduction </h2>\n",
    "    <p>\n",
    "        <br>       \n",
    " \n",
    "     \n",
    "The problem we try to solve here is the diagnosis of malaria using images of cells that are whether infected or not. It is a binary classification problem from the data set found here at <a href=https://www.kaggle.com/iarunava/cell-images-for-detecting-malaria>\"Cell images for detecting malaria\"</a>. The data set contains around 27 thousand images, that are balanced between the 2 classes. The way we proceed here is to extract features from the images instead of using images directly as inputs to the model we use for predictions.\n",
    "\n",
    " \n",
    "</div>"
   ]
  },
  {
   "cell_type": "markdown",
   "metadata": {},
   "source": [
    "<p align=\"center\">\n",
    "  <img src=\"example_cells.png\">\n",
    "</p>\n",
    "<center>Example of parasitized and uninfected cells</center>"
   ]
  },
  {
   "cell_type": "code",
   "execution_count": 1,
   "metadata": {},
   "outputs": [],
   "source": [
    "import sys\n",
    "model_dir = 'sample_code_submission/'                        # Change the model to a better one once you have one!\n",
    "result_dir = 'sample_result_submission/' \n",
    "problem_dir = 'ingestion_program/'  \n",
    "score_dir = 'scoring_program/'\n",
    "from sys import path; path.append(model_dir); path.append(problem_dir); path.append(score_dir); \n",
    "%matplotlib inline\n",
    "# Uncomment the next lines to auto-reload libraries (this causes some problem with pickles in Python 3)\n",
    "%load_ext autoreload\n",
    "%autoreload 2\n",
    "import seaborn as sns; sns.set()\n",
    "import warnings\n",
    "warnings.simplefilter(action='ignore', category=FutureWarning)"
   ]
  },
  {
   "cell_type": "markdown",
   "metadata": {},
   "source": [
    "<div style=\"background:#FFFFAA\">\n",
    "    <h1> Step 1: Exploratory data analysis </h1>\n",
    "<p>\n",
    "We provide sample_data with the starting kit, but to prepare your submission, you must fetch the public_data from the challenge website and point to it.\n",
    "    <br>\n",
    "    <span style=\"color:red\"> Just change the data name in the block below. In the rest of the section, replace the sample plots by anything you want. </span>\n",
    "</div>"
   ]
  },
  {
   "cell_type": "markdown",
   "metadata": {},
   "source": [
    "### Quality of the data\n",
    "\n",
    "Our data is composed of images that we preprocessed to extract features. Therefore we do not have any missing data in any feature because we created the features ourselves. There may be one artefact which is the fact that the background is black, and we may wonder if infected cells might be smaller (or the contrary), which would provide us darker images and a higher (or lower) average of gray "
   ]
  },
  {
   "cell_type": "code",
   "execution_count": 2,
   "metadata": {},
   "outputs": [
    {
     "name": "stdout",
     "output_type": "stream",
     "text": [
      "malaria_feat.name    malaria_test.data\t     malaria_valid.data\r\n",
      "malaria_label.name   malaria_train.data\r\n",
      "malaria_public.info  malaria_train.solution\r\n"
     ]
    }
   ],
   "source": [
    "data_dir = 'public_data'              # Change this to the directory where you put the input data\n",
    "data_name = 'malaria'\n",
    "\n",
    "!ls $data_dir* # Linux command\n",
    "# !dir $data_dir # Windows command"
   ]
  },
  {
   "cell_type": "markdown",
   "metadata": {},
   "source": [
    "For convenience, we load the data as a \"pandas\" data frame, so we can use \"pandas\" and \"seaborn\" built in functions to explore the data."
   ]
  },
  {
   "cell_type": "code",
   "execution_count": 3,
   "metadata": {},
   "outputs": [
    {
     "name": "stdout",
     "output_type": "stream",
     "text": [
      "Reading public_data/malaria_train from AutoML format\n",
      "Number of examples = 16534\n",
      "Number of features = 19\n",
      "         Class\n",
      "0   uninfected\n",
      "1  parasitized\n",
      "Number of classes = 2\n"
     ]
    },
    {
     "data": {
      "image/png": "[encoded data removed]",
      "text/plain": [
       "<Figure size 432x288 with 1 Axes>"
      ]
     },
     "metadata": {
      "needs_background": "light"
     },
     "output_type": "display_data"
    }
   ],
   "source": [
    "from data_io import read_as_df\n",
    "import matplotlib.pyplot as plt\n",
    "import numpy as np\n",
    "import pandas as pd\n",
    "import sklearn as sl\n",
    " \n",
    "\n",
    "data = read_as_df(data_dir  + '/' + data_name)                # The data are loaded as a Pandas Data Frame\n",
    "\n",
    "nb_p=np.sum(data.target == 'parasitized')\n",
    "nb_u=np.sum(data.target == 'uninfected')\n",
    "\n",
    "p = pd.DataFrame({'labels':['parasitized', 'uninfected'],'number of cells': [nb_p, nb_u]})\n",
    "ax = p.plot.bar(x='labels', y='number of cells', rot=0),\n",
    "plt.text(-0.12, nb_p/2, nb_p , size=20, color='r'),\n",
    "plt.text(0.9, nb_u/2, nb_u , size=20, color='g'),plt.title('Distribution of our cells images')\n",
    "plt.show()"
   ]
  },
  {
   "cell_type": "code",
   "execution_count": 4,
   "metadata": {
    "scrolled": false
   },
   "outputs": [
    {
     "data": {
      "text/html": [
       "<div>\n",
       "<style scoped>\n",
       "    .dataframe tbody tr th:only-of-type {\n",
       "        vertical-align: middle;\n",
       "    }\n",
       "\n",
       "    .dataframe tbody tr th {\n",
       "        vertical-align: top;\n",
       "    }\n",
       "\n",
       "    .dataframe thead th {\n",
       "        text-align: right;\n",
       "    }\n",
       "</style>\n",
       "<table border=\"1\" class=\"dataframe\">\n",
       "  <thead>\n",
       "    <tr style=\"text-align: right;\">\n",
       "      <th></th>\n",
       "      <th>nb_black_pixels</th>\n",
       "      <th>var_color</th>\n",
       "      <th>mean_color</th>\n",
       "      <th>min_color</th>\n",
       "      <th>max_color</th>\n",
       "      <th>var_gray</th>\n",
       "      <th>mean_gray</th>\n",
       "      <th>min_gray</th>\n",
       "      <th>max_gray</th>\n",
       "      <th>nb_pixel_0.0_0.1</th>\n",
       "      <th>nb_pixel_0.1_0.2</th>\n",
       "      <th>nb_pixel_0.2_0.3</th>\n",
       "      <th>nb_pixel_0.3_0.4</th>\n",
       "      <th>nb_pixel_0.4_0.5</th>\n",
       "      <th>nb_pixel_0.5_0.6</th>\n",
       "      <th>nb_pixel_0.6_0.7</th>\n",
       "      <th>nb_pixel_0.7_0.8</th>\n",
       "      <th>nb_pixel_0.8_0.9</th>\n",
       "      <th>nb_pixel_0.9_1.0</th>\n",
       "      <th>target</th>\n",
       "    </tr>\n",
       "  </thead>\n",
       "  <tbody>\n",
       "    <tr>\n",
       "      <th>0</th>\n",
       "      <td>4884</td>\n",
       "      <td>0.000000</td>\n",
       "      <td>0.948893</td>\n",
       "      <td>0.948893</td>\n",
       "      <td>0.948893</td>\n",
       "      <td>0.419515</td>\n",
       "      <td>0.636039</td>\n",
       "      <td>0.529412</td>\n",
       "      <td>0.764706</td>\n",
       "      <td>0</td>\n",
       "      <td>0</td>\n",
       "      <td>0</td>\n",
       "      <td>0</td>\n",
       "      <td>0</td>\n",
       "      <td>0</td>\n",
       "      <td>0</td>\n",
       "      <td>1038</td>\n",
       "      <td>9482</td>\n",
       "      <td>1886</td>\n",
       "      <td>uninfected</td>\n",
       "    </tr>\n",
       "    <tr>\n",
       "      <th>1</th>\n",
       "      <td>4347</td>\n",
       "      <td>0.000311</td>\n",
       "      <td>0.907223</td>\n",
       "      <td>0.874799</td>\n",
       "      <td>0.927769</td>\n",
       "      <td>0.519111</td>\n",
       "      <td>0.633702</td>\n",
       "      <td>0.400000</td>\n",
       "      <td>0.823529</td>\n",
       "      <td>0</td>\n",
       "      <td>0</td>\n",
       "      <td>0</td>\n",
       "      <td>0</td>\n",
       "      <td>0</td>\n",
       "      <td>1</td>\n",
       "      <td>79</td>\n",
       "      <td>6716</td>\n",
       "      <td>4333</td>\n",
       "      <td>656</td>\n",
       "      <td>parasitized</td>\n",
       "    </tr>\n",
       "    <tr>\n",
       "      <th>2</th>\n",
       "      <td>4935</td>\n",
       "      <td>0.000033</td>\n",
       "      <td>0.972043</td>\n",
       "      <td>0.962162</td>\n",
       "      <td>0.985586</td>\n",
       "      <td>0.266897</td>\n",
       "      <td>0.641619</td>\n",
       "      <td>0.568627</td>\n",
       "      <td>0.737255</td>\n",
       "      <td>0</td>\n",
       "      <td>0</td>\n",
       "      <td>0</td>\n",
       "      <td>0</td>\n",
       "      <td>0</td>\n",
       "      <td>0</td>\n",
       "      <td>0</td>\n",
       "      <td>0</td>\n",
       "      <td>8647</td>\n",
       "      <td>4506</td>\n",
       "      <td>uninfected</td>\n",
       "    </tr>\n",
       "    <tr>\n",
       "      <th>3</th>\n",
       "      <td>6501</td>\n",
       "      <td>0.000017</td>\n",
       "      <td>0.955153</td>\n",
       "      <td>0.950617</td>\n",
       "      <td>0.959436</td>\n",
       "      <td>0.594517</td>\n",
       "      <td>0.661221</td>\n",
       "      <td>0.301961</td>\n",
       "      <td>0.745098</td>\n",
       "      <td>0</td>\n",
       "      <td>0</td>\n",
       "      <td>0</td>\n",
       "      <td>0</td>\n",
       "      <td>4</td>\n",
       "      <td>25</td>\n",
       "      <td>122</td>\n",
       "      <td>367</td>\n",
       "      <td>8520</td>\n",
       "      <td>5813</td>\n",
       "      <td>parasitized</td>\n",
       "    </tr>\n",
       "    <tr>\n",
       "      <th>4</th>\n",
       "      <td>3384</td>\n",
       "      <td>0.000189</td>\n",
       "      <td>0.870487</td>\n",
       "      <td>0.857143</td>\n",
       "      <td>0.911565</td>\n",
       "      <td>2.217611</td>\n",
       "      <td>0.471401</td>\n",
       "      <td>0.345098</td>\n",
       "      <td>0.780392</td>\n",
       "      <td>0</td>\n",
       "      <td>0</td>\n",
       "      <td>0</td>\n",
       "      <td>0</td>\n",
       "      <td>0</td>\n",
       "      <td>1966</td>\n",
       "      <td>2513</td>\n",
       "      <td>1448</td>\n",
       "      <td>798</td>\n",
       "      <td>191</td>\n",
       "      <td>uninfected</td>\n",
       "    </tr>\n",
       "  </tbody>\n",
       "</table>\n",
       "</div>"
      ],
      "text/plain": [
       "   nb_black_pixels  var_color  mean_color  min_color  max_color  var_gray  \\\n",
       "0             4884   0.000000    0.948893   0.948893   0.948893  0.419515   \n",
       "1             4347   0.000311    0.907223   0.874799   0.927769  0.519111   \n",
       "2             4935   0.000033    0.972043   0.962162   0.985586  0.266897   \n",
       "3             6501   0.000017    0.955153   0.950617   0.959436  0.594517   \n",
       "4             3384   0.000189    0.870487   0.857143   0.911565  2.217611   \n",
       "\n",
       "   mean_gray  min_gray  max_gray  nb_pixel_0.0_0.1  nb_pixel_0.1_0.2  \\\n",
       "0   0.636039  0.529412  0.764706                 0                 0   \n",
       "1   0.633702  0.400000  0.823529                 0                 0   \n",
       "2   0.641619  0.568627  0.737255                 0                 0   \n",
       "3   0.661221  0.301961  0.745098                 0                 0   \n",
       "4   0.471401  0.345098  0.780392                 0                 0   \n",
       "\n",
       "   nb_pixel_0.2_0.3  nb_pixel_0.3_0.4  nb_pixel_0.4_0.5  nb_pixel_0.5_0.6  \\\n",
       "0                 0                 0                 0                 0   \n",
       "1                 0                 0                 0                 1   \n",
       "2                 0                 0                 0                 0   \n",
       "3                 0                 0                 4                25   \n",
       "4                 0                 0                 0              1966   \n",
       "\n",
       "   nb_pixel_0.6_0.7  nb_pixel_0.7_0.8  nb_pixel_0.8_0.9  nb_pixel_0.9_1.0  \\\n",
       "0                 0              1038              9482              1886   \n",
       "1                79              6716              4333               656   \n",
       "2                 0                 0              8647              4506   \n",
       "3               122               367              8520              5813   \n",
       "4              2513              1448               798               191   \n",
       "\n",
       "        target  \n",
       "0   uninfected  \n",
       "1  parasitized  \n",
       "2   uninfected  \n",
       "3  parasitized  \n",
       "4   uninfected  "
      ]
     },
     "execution_count": 4,
     "metadata": {},
     "output_type": "execute_result"
    }
   ],
   "source": [
    "data_copy = data.copy()\n",
    "data.head()"
   ]
  },
  {
   "cell_type": "markdown",
   "metadata": {},
   "source": [
    "We have decided to reduce the dataset of images to a simpler dataset with only 19 features.\n",
    "\n",
    "`nb_black_pixels` counts pixels whose value is dark for gray_scale images, those around the cell in the image.\n",
    "\n",
    "`var_color` feature is simply the empirical variance of the values of the pixels for colored images.\n",
    "\n",
    "`mean_color` feature is simply the mean of the values of the pixels for colored images.\n",
    "\n",
    "`max_color` is the maximum value for colored images.\n",
    "\n",
    "`min_color` is the maximum value for colored images.\n",
    "\n",
    "`var_gray`, `mean_gray`, `max_gray` and `min_gray` are the same but for gray-scale images.\n",
    "\n",
    "`nb_pixel_i_j` is the number of pixels having their value (intensity : 0 = black | 1 = white) between i and j for gray-scale images."
   ]
  },
  {
   "cell_type": "code",
   "execution_count": 5,
   "metadata": {
    "scrolled": true
   },
   "outputs": [
    {
     "name": "stdout",
     "output_type": "stream",
     "text": [
      "7174\n"
     ]
    },
    {
     "data": {
      "text/html": [
       "<div>\n",
       "<style scoped>\n",
       "    .dataframe tbody tr th:only-of-type {\n",
       "        vertical-align: middle;\n",
       "    }\n",
       "\n",
       "    .dataframe tbody tr th {\n",
       "        vertical-align: top;\n",
       "    }\n",
       "\n",
       "    .dataframe thead th {\n",
       "        text-align: right;\n",
       "    }\n",
       "</style>\n",
       "<table border=\"1\" class=\"dataframe\">\n",
       "  <thead>\n",
       "    <tr style=\"text-align: right;\">\n",
       "      <th></th>\n",
       "      <th>nb_black_pixels</th>\n",
       "      <th>var_color</th>\n",
       "      <th>mean_color</th>\n",
       "      <th>min_color</th>\n",
       "      <th>max_color</th>\n",
       "      <th>var_gray</th>\n",
       "      <th>mean_gray</th>\n",
       "      <th>min_gray</th>\n",
       "      <th>max_gray</th>\n",
       "      <th>nb_pixel_0.0_0.1</th>\n",
       "      <th>nb_pixel_0.1_0.2</th>\n",
       "      <th>nb_pixel_0.2_0.3</th>\n",
       "      <th>nb_pixel_0.3_0.4</th>\n",
       "      <th>nb_pixel_0.4_0.5</th>\n",
       "      <th>nb_pixel_0.5_0.6</th>\n",
       "      <th>nb_pixel_0.6_0.7</th>\n",
       "      <th>nb_pixel_0.7_0.8</th>\n",
       "      <th>nb_pixel_0.8_0.9</th>\n",
       "      <th>nb_pixel_0.9_1.0</th>\n",
       "    </tr>\n",
       "  </thead>\n",
       "  <tbody>\n",
       "    <tr>\n",
       "      <th>count</th>\n",
       "      <td>16534.000000</td>\n",
       "      <td>16534.000000</td>\n",
       "      <td>16534.000000</td>\n",
       "      <td>16534.000000</td>\n",
       "      <td>16534.000000</td>\n",
       "      <td>16534.000000</td>\n",
       "      <td>16534.000000</td>\n",
       "      <td>16534.000000</td>\n",
       "      <td>16534.000000</td>\n",
       "      <td>16534.0</td>\n",
       "      <td>16534.000000</td>\n",
       "      <td>16534.000000</td>\n",
       "      <td>16534.000000</td>\n",
       "      <td>16534.000000</td>\n",
       "      <td>16534.000000</td>\n",
       "      <td>16534.000000</td>\n",
       "      <td>16534.000000</td>\n",
       "      <td>16534.000000</td>\n",
       "      <td>16534.000000</td>\n",
       "    </tr>\n",
       "    <tr>\n",
       "      <th>mean</th>\n",
       "      <td>5186.434861</td>\n",
       "      <td>0.000187</td>\n",
       "      <td>0.932538</td>\n",
       "      <td>0.915922</td>\n",
       "      <td>0.951003</td>\n",
       "      <td>0.455423</td>\n",
       "      <td>0.638756</td>\n",
       "      <td>0.425941</td>\n",
       "      <td>0.767492</td>\n",
       "      <td>0.0</td>\n",
       "      <td>0.023588</td>\n",
       "      <td>0.068828</td>\n",
       "      <td>0.825390</td>\n",
       "      <td>9.424398</td>\n",
       "      <td>39.726261</td>\n",
       "      <td>255.600641</td>\n",
       "      <td>1700.682533</td>\n",
       "      <td>7205.277186</td>\n",
       "      <td>3425.218157</td>\n",
       "    </tr>\n",
       "    <tr>\n",
       "      <th>std</th>\n",
       "      <td>2555.612474</td>\n",
       "      <td>0.000685</td>\n",
       "      <td>0.042827</td>\n",
       "      <td>0.050649</td>\n",
       "      <td>0.038777</td>\n",
       "      <td>0.401030</td>\n",
       "      <td>0.047318</td>\n",
       "      <td>0.166523</td>\n",
       "      <td>0.034910</td>\n",
       "      <td>0.0</td>\n",
       "      <td>2.398723</td>\n",
       "      <td>3.554840</td>\n",
       "      <td>10.868906</td>\n",
       "      <td>34.948790</td>\n",
       "      <td>148.352439</td>\n",
       "      <td>944.844381</td>\n",
       "      <td>2869.953967</td>\n",
       "      <td>4015.087123</td>\n",
       "      <td>3777.575870</td>\n",
       "    </tr>\n",
       "    <tr>\n",
       "      <th>min</th>\n",
       "      <td>720.000000</td>\n",
       "      <td>0.000000</td>\n",
       "      <td>0.361582</td>\n",
       "      <td>0.308397</td>\n",
       "      <td>0.361582</td>\n",
       "      <td>0.013198</td>\n",
       "      <td>0.399673</td>\n",
       "      <td>0.062745</td>\n",
       "      <td>0.564706</td>\n",
       "      <td>0.0</td>\n",
       "      <td>0.000000</td>\n",
       "      <td>0.000000</td>\n",
       "      <td>0.000000</td>\n",
       "      <td>0.000000</td>\n",
       "      <td>0.000000</td>\n",
       "      <td>0.000000</td>\n",
       "      <td>0.000000</td>\n",
       "      <td>0.000000</td>\n",
       "      <td>2.000000</td>\n",
       "    </tr>\n",
       "    <tr>\n",
       "      <th>25%</th>\n",
       "      <td>3753.000000</td>\n",
       "      <td>0.000028</td>\n",
       "      <td>0.912136</td>\n",
       "      <td>0.892857</td>\n",
       "      <td>0.933333</td>\n",
       "      <td>0.169282</td>\n",
       "      <td>0.614504</td>\n",
       "      <td>0.262745</td>\n",
       "      <td>0.749020</td>\n",
       "      <td>0.0</td>\n",
       "      <td>0.000000</td>\n",
       "      <td>0.000000</td>\n",
       "      <td>0.000000</td>\n",
       "      <td>0.000000</td>\n",
       "      <td>0.000000</td>\n",
       "      <td>0.000000</td>\n",
       "      <td>1.000000</td>\n",
       "      <td>3781.000000</td>\n",
       "      <td>944.000000</td>\n",
       "    </tr>\n",
       "    <tr>\n",
       "      <th>50%</th>\n",
       "      <td>4641.000000</td>\n",
       "      <td>0.000070</td>\n",
       "      <td>0.942715</td>\n",
       "      <td>0.926871</td>\n",
       "      <td>0.960345</td>\n",
       "      <td>0.357243</td>\n",
       "      <td>0.646235</td>\n",
       "      <td>0.431373</td>\n",
       "      <td>0.764706</td>\n",
       "      <td>0.0</td>\n",
       "      <td>0.000000</td>\n",
       "      <td>0.000000</td>\n",
       "      <td>0.000000</td>\n",
       "      <td>0.000000</td>\n",
       "      <td>0.000000</td>\n",
       "      <td>29.000000</td>\n",
       "      <td>190.000000</td>\n",
       "      <td>7634.500000</td>\n",
       "      <td>1913.000000</td>\n",
       "    </tr>\n",
       "    <tr>\n",
       "      <th>75%</th>\n",
       "      <td>5848.500000</td>\n",
       "      <td>0.000161</td>\n",
       "      <td>0.963064</td>\n",
       "      <td>0.950949</td>\n",
       "      <td>0.978261</td>\n",
       "      <td>0.614151</td>\n",
       "      <td>0.671711</td>\n",
       "      <td>0.592157</td>\n",
       "      <td>0.788235</td>\n",
       "      <td>0.0</td>\n",
       "      <td>0.000000</td>\n",
       "      <td>0.000000</td>\n",
       "      <td>0.000000</td>\n",
       "      <td>3.000000</td>\n",
       "      <td>49.000000</td>\n",
       "      <td>108.000000</td>\n",
       "      <td>1966.000000</td>\n",
       "      <td>10215.000000</td>\n",
       "      <td>4317.750000</td>\n",
       "    </tr>\n",
       "    <tr>\n",
       "      <th>max</th>\n",
       "      <td>79306.000000</td>\n",
       "      <td>0.030410</td>\n",
       "      <td>1.000000</td>\n",
       "      <td>1.000000</td>\n",
       "      <td>1.000000</td>\n",
       "      <td>7.691629</td>\n",
       "      <td>0.748599</td>\n",
       "      <td>0.705882</td>\n",
       "      <td>0.941176</td>\n",
       "      <td>0.0</td>\n",
       "      <td>295.000000</td>\n",
       "      <td>305.000000</td>\n",
       "      <td>1026.000000</td>\n",
       "      <td>1595.000000</td>\n",
       "      <td>5492.000000</td>\n",
       "      <td>12863.000000</td>\n",
       "      <td>17071.000000</td>\n",
       "      <td>29463.000000</td>\n",
       "      <td>30574.000000</td>\n",
       "    </tr>\n",
       "  </tbody>\n",
       "</table>\n",
       "</div>"
      ],
      "text/plain": [
       "       nb_black_pixels     var_color    mean_color     min_color  \\\n",
       "count     16534.000000  16534.000000  16534.000000  16534.000000   \n",
       "mean       5186.434861      0.000187      0.932538      0.915922   \n",
       "std        2555.612474      0.000685      0.042827      0.050649   \n",
       "min         720.000000      0.000000      0.361582      0.308397   \n",
       "25%        3753.000000      0.000028      0.912136      0.892857   \n",
       "50%        4641.000000      0.000070      0.942715      0.926871   \n",
       "75%        5848.500000      0.000161      0.963064      0.950949   \n",
       "max       79306.000000      0.030410      1.000000      1.000000   \n",
       "\n",
       "          max_color      var_gray     mean_gray      min_gray      max_gray  \\\n",
       "count  16534.000000  16534.000000  16534.000000  16534.000000  16534.000000   \n",
       "mean       0.951003      0.455423      0.638756      0.425941      0.767492   \n",
       "std        0.038777      0.401030      0.047318      0.166523      0.034910   \n",
       "min        0.361582      0.013198      0.399673      0.062745      0.564706   \n",
       "25%        0.933333      0.169282      0.614504      0.262745      0.749020   \n",
       "50%        0.960345      0.357243      0.646235      0.431373      0.764706   \n",
       "75%        0.978261      0.614151      0.671711      0.592157      0.788235   \n",
       "max        1.000000      7.691629      0.748599      0.705882      0.941176   \n",
       "\n",
       "       nb_pixel_0.0_0.1  nb_pixel_0.1_0.2  nb_pixel_0.2_0.3  nb_pixel_0.3_0.4  \\\n",
       "count           16534.0      16534.000000      16534.000000      16534.000000   \n",
       "mean                0.0          0.023588          0.068828          0.825390   \n",
       "std                 0.0          2.398723          3.554840         10.868906   \n",
       "min                 0.0          0.000000          0.000000          0.000000   \n",
       "25%                 0.0          0.000000          0.000000          0.000000   \n",
       "50%                 0.0          0.000000          0.000000          0.000000   \n",
       "75%                 0.0          0.000000          0.000000          0.000000   \n",
       "max                 0.0        295.000000        305.000000       1026.000000   \n",
       "\n",
       "       nb_pixel_0.4_0.5  nb_pixel_0.5_0.6  nb_pixel_0.6_0.7  nb_pixel_0.7_0.8  \\\n",
       "count      16534.000000      16534.000000      16534.000000      16534.000000   \n",
       "mean           9.424398         39.726261        255.600641       1700.682533   \n",
       "std           34.948790        148.352439        944.844381       2869.953967   \n",
       "min            0.000000          0.000000          0.000000          0.000000   \n",
       "25%            0.000000          0.000000          0.000000          1.000000   \n",
       "50%            0.000000          0.000000         29.000000        190.000000   \n",
       "75%            3.000000         49.000000        108.000000       1966.000000   \n",
       "max         1595.000000       5492.000000      12863.000000      17071.000000   \n",
       "\n",
       "       nb_pixel_0.8_0.9  nb_pixel_0.9_1.0  \n",
       "count      16534.000000      16534.000000  \n",
       "mean        7205.277186       3425.218157  \n",
       "std         4015.087123       3777.575870  \n",
       "min            0.000000          2.000000  \n",
       "25%         3781.000000        944.000000  \n",
       "50%         7634.500000       1913.000000  \n",
       "75%        10215.000000       4317.750000  \n",
       "max        29463.000000      30574.000000  "
      ]
     },
     "execution_count": 5,
     "metadata": {},
     "output_type": "execute_result"
    }
   ],
   "source": [
    "j = 0\n",
    "for i in range(data.shape[0]):\n",
    "    if data[\"nb_pixel_0.6_0.7\"][i] == 0 : \n",
    "        j += 1\n",
    "print(j)\n",
    "data.describe() "
   ]
  },
  {
   "cell_type": "markdown",
   "metadata": {},
   "source": [
    "<div style=\"background:#AAFFCC\">\n",
    "La fonction créée précédemment renvoie le nombre de zéros dans une colonne. On l'a créé pour voir quelles colonnes sont potentiellement à enlever. Puis nous avons vu en bas du notebook un graphe représentant les features qui ont peu d'importance et d'influence pour le score. On décide alors de supprimer les colonnes qui  ne présentent pas d'intérêt pour le score. \n",
    "</div>"
   ]
  },
  {
   "cell_type": "markdown",
   "metadata": {},
   "source": [
    "Histogram of our features:"
   ]
  },
  {
   "cell_type": "code",
   "execution_count": 6,
   "metadata": {},
   "outputs": [
    {
     "data": {
      "text/html": [
       "<div>\n",
       "<style scoped>\n",
       "    .dataframe tbody tr th:only-of-type {\n",
       "        vertical-align: middle;\n",
       "    }\n",
       "\n",
       "    .dataframe tbody tr th {\n",
       "        vertical-align: top;\n",
       "    }\n",
       "\n",
       "    .dataframe thead th {\n",
       "        text-align: right;\n",
       "    }\n",
       "</style>\n",
       "<table border=\"1\" class=\"dataframe\">\n",
       "  <thead>\n",
       "    <tr style=\"text-align: right;\">\n",
       "      <th></th>\n",
       "      <th>nb_black_pixels</th>\n",
       "      <th>var_gray</th>\n",
       "      <th>min_gray</th>\n",
       "      <th>nb_pixel_0.5_0.6</th>\n",
       "      <th>nb_pixel_0.6_0.7</th>\n",
       "      <th>nb_pixel_0.7_0.8</th>\n",
       "      <th>target</th>\n",
       "    </tr>\n",
       "  </thead>\n",
       "  <tbody>\n",
       "    <tr>\n",
       "      <th>0</th>\n",
       "      <td>4884</td>\n",
       "      <td>0.419515</td>\n",
       "      <td>0.529412</td>\n",
       "      <td>0</td>\n",
       "      <td>0</td>\n",
       "      <td>1038</td>\n",
       "      <td>uninfected</td>\n",
       "    </tr>\n",
       "    <tr>\n",
       "      <th>1</th>\n",
       "      <td>4347</td>\n",
       "      <td>0.519111</td>\n",
       "      <td>0.400000</td>\n",
       "      <td>1</td>\n",
       "      <td>79</td>\n",
       "      <td>6716</td>\n",
       "      <td>parasitized</td>\n",
       "    </tr>\n",
       "    <tr>\n",
       "      <th>2</th>\n",
       "      <td>4935</td>\n",
       "      <td>0.266897</td>\n",
       "      <td>0.568627</td>\n",
       "      <td>0</td>\n",
       "      <td>0</td>\n",
       "      <td>0</td>\n",
       "      <td>uninfected</td>\n",
       "    </tr>\n",
       "    <tr>\n",
       "      <th>3</th>\n",
       "      <td>6501</td>\n",
       "      <td>0.594517</td>\n",
       "      <td>0.301961</td>\n",
       "      <td>25</td>\n",
       "      <td>122</td>\n",
       "      <td>367</td>\n",
       "      <td>parasitized</td>\n",
       "    </tr>\n",
       "    <tr>\n",
       "      <th>4</th>\n",
       "      <td>3384</td>\n",
       "      <td>2.217611</td>\n",
       "      <td>0.345098</td>\n",
       "      <td>1966</td>\n",
       "      <td>2513</td>\n",
       "      <td>1448</td>\n",
       "      <td>uninfected</td>\n",
       "    </tr>\n",
       "  </tbody>\n",
       "</table>\n",
       "</div>"
      ],
      "text/plain": [
       "   nb_black_pixels  var_gray  min_gray  nb_pixel_0.5_0.6  nb_pixel_0.6_0.7  \\\n",
       "0             4884  0.419515  0.529412                 0                 0   \n",
       "1             4347  0.519111  0.400000                 1                79   \n",
       "2             4935  0.266897  0.568627                 0                 0   \n",
       "3             6501  0.594517  0.301961                25               122   \n",
       "4             3384  2.217611  0.345098              1966              2513   \n",
       "\n",
       "   nb_pixel_0.7_0.8       target  \n",
       "0              1038   uninfected  \n",
       "1              6716  parasitized  \n",
       "2                 0   uninfected  \n",
       "3               367  parasitized  \n",
       "4              1448   uninfected  "
      ]
     },
     "execution_count": 6,
     "metadata": {},
     "output_type": "execute_result"
    }
   ],
   "source": [
    "# processing\n",
    "# On analyse les colonnes nb_pixel_i_j pour voir si elles sont à enlever ou pas\n",
    "\n",
    "\n",
    "def supprime_colonne1(nom_colonne):   \n",
    "    j = 0\n",
    "    for i in range(data.shape[0]):\n",
    "        if data[nom_colonne][i] == 0 : \n",
    "            j = j + 1\n",
    "    if j > 16000/2 :    \n",
    "        return data.drop(columns=nom_colonne)\n",
    "    return data\n",
    "\n",
    "#Finalement on se rend compte que la fonction précédente ne supprime que les colonnes qui ont un nombre de 0\n",
    "#sans tenir compte de l'importance des features. \n",
    "#Du coup on décide juste de supprimer les colonnes qui ne nous intéressent pas : \n",
    "\n",
    "def supprime_colonne(nom_colonne):\n",
    "    return data.drop(columns=nom_colonne)\n",
    "\n",
    "\n",
    "    \n",
    "data = supprime_colonne(\"nb_pixel_0.0_0.1\")\n",
    "data = supprime_colonne(\"nb_pixel_0.1_0.2\")\n",
    "data = supprime_colonne(\"nb_pixel_0.2_0.3\")\n",
    "data = supprime_colonne(\"nb_pixel_0.3_0.4\")\n",
    "data = supprime_colonne(\"nb_pixel_0.4_0.5\")\n",
    "data = supprime_colonne(\"var_color\")\n",
    "data = supprime_colonne(\"mean_color\") \n",
    "data = supprime_colonne(\"max_color\")\n",
    "data = supprime_colonne(\"nb_pixel_0.8_0.9\")\n",
    "data = supprime_colonne(\"nb_pixel_0.9_1.0\")\n",
    "data = supprime_colonne(\"min_color\")\n",
    "data = supprime_colonne(\"mean_gray\")\n",
    "data = supprime_colonne(\"max_gray\")\n",
    "\n",
    "\n",
    "data.head()"
   ]
  },
  {
   "cell_type": "code",
   "execution_count": 7,
   "metadata": {},
   "outputs": [
    {
     "data": {
      "image/png": "[encoded data removed]",
      "text/plain": [
       "<Figure size 1440x1152 with 6 Axes>"
      ]
     },
     "metadata": {
      "needs_background": "light"
     },
     "output_type": "display_data"
    }
   ],
   "source": [
    "import matplotlib.pyplot as plt\n",
    "\n",
    "plt.figure(figsize=(20,16))\n",
    "\n",
    "for t in range(6):\n",
    "    plt.subplot(4,5,t+1)\n",
    "    plt.hist(data[data.columns[t]])\n",
    "    plt.title(data.columns[t])\n",
    "    t+=1"
   ]
  },
  {
   "cell_type": "markdown",
   "metadata": {},
   "source": [
    "Let's try to indentify patterns with a pairplot, which will maybe give us structures for each class depending on 2 features."
   ]
  },
  {
   "cell_type": "code",
   "execution_count": 8,
   "metadata": {},
   "outputs": [
    {
     "data": {
      "text/plain": [
       "<seaborn.axisgrid.PairGrid at 0x7f96b836c390>"
      ]
     },
     "execution_count": 8,
     "metadata": {},
     "output_type": "execute_result"
    },
    {
     "data": {
      "image/png": "[encoded data removed]",
      "text/plain": [
       "<Figure size 640.725x540 with 12 Axes>"
      ]
     },
     "metadata": {
      "needs_background": "light"
     },
     "output_type": "display_data"
    }
   ],
   "source": [
    "sns.pairplot(data[['target','nb_black_pixels','var_gray','min_gray']], hue=\"target\")"
   ]
  },
  {
   "cell_type": "markdown",
   "metadata": {},
   "source": [
    "Correlation of our features with the target: 'parasitized'"
   ]
  },
  {
   "cell_type": "code",
   "execution_count": 9,
   "metadata": {},
   "outputs": [
    {
     "data": {
      "image/png": "[encoded data removed]",
      "text/plain": [
       "<Figure size 720x576 with 2 Axes>"
      ]
     },
     "metadata": {
      "needs_background": "light"
     },
     "output_type": "display_data"
    },
    {
     "data": {
      "image/png": "[encoded data removed]",
      "text/plain": [
       "<Figure size 144x576 with 2 Axes>"
      ]
     },
     "metadata": {
      "needs_background": "light"
     },
     "output_type": "display_data"
    }
   ],
   "source": [
    "datatarget = pd.get_dummies(data['target'])['parasitized'].to_frame()\n",
    "new_df = pd.merge(data, datatarget, right_index=True, left_index=True)\n",
    "df_new = new_df.select_dtypes(include=np.number)\n",
    "\n",
    "plt.figure(figsize = (10, 8))\n",
    "ax = sns.heatmap(df_new.corr(),cmap=\"viridis\", xticklabels=True, yticklabels=True)\n",
    "\n",
    "d=pd.get_dummies(data['target'])['parasitized']\n",
    "\n",
    "n_df = pd.merge(d.to_frame(), data, right_index=True, left_index=True)\n",
    "df_n = n_df.select_dtypes(include=np.number).abs()\n",
    "\n",
    "\n",
    "plt.figure(figsize = (2, 8))\n",
    "ax = sns.heatmap(df_n.corr().abs().sort_values(['parasitized'], ascending=[0])[\"parasitized\"].to_frame(), cmap=\"viridis\", xticklabels=True, yticklabels=True)"
   ]
  },
  {
   "cell_type": "code",
   "execution_count": 10,
   "metadata": {},
   "outputs": [
    {
     "data": {
      "image/png": "[encoded data removed]",
      "text/plain": [
       "<Figure size 432x288 with 1 Axes>"
      ]
     },
     "metadata": {
      "needs_background": "light"
     },
     "output_type": "display_data"
    }
   ],
   "source": [
    "boxplot = data.boxplot(column=['nb_black_pixels'], by='target', )"
   ]
  },
  {
   "cell_type": "markdown",
   "metadata": {},
   "source": [
    "There seem to have no correlation between the number of black pixels and the target as well, then there is no dataleakage."
   ]
  },
  {
   "cell_type": "markdown",
   "metadata": {},
   "source": [
    "From the correlation matrix, the feature that has the highest correlation with the target is \"min_gray\"."
   ]
  },
  {
   "cell_type": "code",
   "execution_count": 11,
   "metadata": {},
   "outputs": [
    {
     "data": {
      "image/png": "[encoded data removed]",
      "text/plain": [
       "<Figure size 432x288 with 1 Axes>"
      ]
     },
     "metadata": {
      "needs_background": "light"
     },
     "output_type": "display_data"
    }
   ],
   "source": [
    "boxplot = data.boxplot(column=['min_gray'], by='target', )"
   ]
  },
  {
   "cell_type": "markdown",
   "metadata": {},
   "source": [
    "## Model and results analysis\n",
    "\n",
    "Here we run a sandbox test to introduce some metrics and ways to visualize results. We split the train set into train and test in order to perform these analysis, and we compute the confusion matrix for RandomForestClassifier with arbitrary hyper-parameters."
   ]
  },
  {
   "cell_type": "code",
   "execution_count": 12,
   "metadata": {},
   "outputs": [
    {
     "name": "stdout",
     "output_type": "stream",
     "text": [
      "Info file found : /home/tp-home002/ctrupin/Bureau/malaria/starting_kit/public_data/malaria_public.info\n",
      "FIT: dim(X)= [11077, 19]\n",
      "FIT: dim(y)= [11077, 1]\n",
      "PREDICT: dim(X)= [5457, 19]\n",
      "PREDICT: dim(y)= [5457, 1]\n"
     ]
    },
    {
     "data": {
      "text/plain": [
       "array([[2570,  105],\n",
       "       [ 158, 2624]])"
      ]
     },
     "execution_count": 12,
     "metadata": {},
     "output_type": "execute_result"
    }
   ],
   "source": [
    "from sklearn.model_selection import train_test_split\n",
    "from data_manager import DataManager\n",
    "from model import model\n",
    "from sklearn.ensemble import RandomForestClassifier\n",
    "from sklearn.model_selection import ParameterGrid\n",
    "\n",
    "D = DataManager(data_name, data_dir, replace_missing=True)\n",
    "X_train_pre, X_test_pre, y_train_pre, y_test_pre = train_test_split(D.data['X_train'], D.data['Y_train'], test_size=0.33, random_state=42)\n",
    "\n",
    "# Load model\n",
    "clf = RandomForestClassifier(random_state = 42, n_estimators = 2, max_depth = 5)\n",
    "M = model() # The model is by default a random forest classifier\n",
    "\n",
    "if not(M.is_trained):\n",
    "    M.fit(X_train_pre, y_train_pre)                     \n",
    "\n",
    "Y_hat_test_pre = M.predict(X_test_pre)\n",
    "\n",
    "from sklearn.metrics import confusion_matrix\n",
    "confusion_matrix(y_test_pre, Y_hat_test_pre)"
   ]
  },
  {
   "cell_type": "markdown",
   "metadata": {},
   "source": [
    "This is the plot of the confusion matrix from the predictions performed."
   ]
  },
  {
   "cell_type": "code",
   "execution_count": 13,
   "metadata": {},
   "outputs": [
    {
     "data": {
      "image/png": "[encoded data removed]",
      "text/plain": [
       "<Figure size 432x288 with 2 Axes>"
      ]
     },
     "metadata": {
      "needs_background": "light"
     },
     "output_type": "display_data"
    }
   ],
   "source": [
    "ax= plt.subplot()\n",
    "sns.heatmap(confusion_matrix(y_test_pre, Y_hat_test_pre), annot=True, fmt='g', ax=ax); #annot=True to annotate cells\n",
    "\n",
    "# labels, title and ticks\n",
    "ax.set_xlabel('Predicted labels');\n",
    "ax.set_ylabel('True labels'); \n",
    "ax.set_title('Confusion Matrix'); \n",
    "ax.xaxis.set_ticklabels(['Parasitized', 'Uninfected']);\n",
    "ax.yaxis.set_ticklabels(['Parasitized', 'Uninfected']);\n",
    "plt.show()"
   ]
  },
  {
   "cell_type": "code",
   "execution_count": 14,
   "metadata": {},
   "outputs": [
    {
     "name": "stdout",
     "output_type": "stream",
     "text": [
      "              precision    recall  f1-score   support\n",
      "\n",
      " Parasitized       0.94      0.96      0.95      2675\n",
      "  Uninfected       0.96      0.94      0.95      2782\n",
      "\n",
      "   micro avg       0.95      0.95      0.95      5457\n",
      "   macro avg       0.95      0.95      0.95      5457\n",
      "weighted avg       0.95      0.95      0.95      5457\n",
      "\n"
     ]
    }
   ],
   "source": [
    "from sklearn.metrics import classification_report\n",
    "\n",
    "target_names = ['Parasitized', 'Uninfected']\n",
    "print(classification_report(y_test_pre, Y_hat_test_pre, target_names=target_names))"
   ]
  },
  {
   "cell_type": "markdown",
   "metadata": {},
   "source": [
    "Then we can compute the AUC metric which is the one used for the submission."
   ]
  },
  {
   "cell_type": "markdown",
   "metadata": {},
   "source": [
    "<div style=\"background:#FFFFAA\">\n",
    "    <h2>Training a predictive model</h2>\n",
    "    <p>\n",
    "We provide an example of predictive model (for classification or regression) in the `sample_code_submission/` directory. It is a quite stupid model: it makes constant predictions. Replace it with your own model.\n",
    "    </div>"
   ]
  },
  {
   "cell_type": "code",
   "execution_count": 15,
   "metadata": {},
   "outputs": [],
   "source": [
    "from data_io import write\n",
    "from model import model\n",
    "# Uncomment the next line to show the code of the model\n",
    "#??model"
   ]
  },
  {
   "cell_type": "markdown",
   "metadata": {},
   "source": [
    "<div style=\"background:#FFFFAA\">\n",
    "an instance of the model (run the constructor) and attempt to reload a previously saved version from `sample_code_submission/`:\n",
    "    \n",
    "</div>"
   ]
  },
  {
   "cell_type": "markdown",
   "metadata": {},
   "source": [
    "<div style=\"background:#FFFFAA\">\n",
    "<h1>Step 2: Building a predictive model</h1>\n",
    "</div>"
   ]
  },
  {
   "cell_type": "markdown",
   "metadata": {},
   "source": [
    "<div style=\"background:#FFFFAA\">\n",
    "    <h2>Loading data with DataManager</h2>\n",
    "    <p>\n",
    "We reload the data with the AutoML DataManager class because this is more convenient:\n",
    "   <br>     <span style=\"color:red\"> Keep this, it illustrates how data in AutoML formal are loaded by the ingestion program </span>\n",
    "</div>"
   ]
  },
  {
   "cell_type": "code",
   "execution_count": 16,
   "metadata": {
    "scrolled": true
   },
   "outputs": [
    {
     "name": "stdout",
     "output_type": "stream",
     "text": [
      "Info file found : /home/tp-home002/ctrupin/Bureau/malaria/starting_kit/public_data/malaria_public.info\n",
      "DataManager : malaria\n",
      "info:\n",
      "\tusage = Malaria cell images dataset\n",
      "\tname = malaria\n",
      "\ttask = binary.classification\n",
      "\ttarget_type = Numerical\n",
      "\tfeat_type = Numerical\n",
      "\tmetric = roc_auc_score\n",
      "\ttime_budget = 1200\n",
      "\tfeat_num = 19\n",
      "\ttarget_num = 2\n",
      "\tlabel_num = 2\n",
      "\ttrain_num = 16534\n",
      "\tvalid_num = 5512\n",
      "\ttest_num = 5512\n",
      "\thas_categorical = 0\n",
      "\thas_missing = 0\n",
      "\tis_sparse = 0\n",
      "\tformat = dense\n",
      "data:\n",
      "\tX_train = array(16534, 19)\n",
      "\tY_train = array(16534,)\n",
      "\tX_valid = array(5512, 19)\n",
      "\tY_valid = array(0,)\n",
      "\tX_test = array(5512, 19)\n",
      "\tY_test = array(0,)\n",
      "feat_type:\tarray(19,)\n",
      "feat_idx:\tarray(0,)\n",
      "\n"
     ]
    }
   ],
   "source": [
    "from data_manager import DataManager\n",
    "D = DataManager(data_name, data_dir, replace_missing=True)\n",
    "print(D)"
   ]
  },
  {
   "cell_type": "code",
   "execution_count": 17,
   "metadata": {},
   "outputs": [],
   "source": [
    "#Trying a random forest model\n",
    "M = model()   #The model is by default a random forest classifier\n",
    "trained_model_name = model_dir + data_name\n",
    "# Uncomment the next line to re-load an already trained model\n",
    "#M = M.load(trained_model_name)                  "
   ]
  },
  {
   "cell_type": "markdown",
   "metadata": {},
   "source": [
    "<div style=\"background:#FFFFAA\">\n",
    "    Train the model (unless you reloaded a trained model) and make predictions. \n",
    "</div>"
   ]
  },
  {
   "cell_type": "code",
   "execution_count": 18,
   "metadata": {
    "scrolled": true
   },
   "outputs": [
    {
     "name": "stdout",
     "output_type": "stream",
     "text": [
      "FIT: dim(X)= [16534, 19]\n",
      "FIT: dim(y)= [16534, 1]\n",
      "PREDICT: dim(X)= [16534, 19]\n",
      "PREDICT: dim(y)= [16534, 1]\n",
      "PREDICT: dim(X)= [5512, 19]\n",
      "PREDICT: dim(y)= [5512, 1]\n",
      "PREDICT: dim(X)= [5512, 19]\n",
      "PREDICT: dim(y)= [5512, 1]\n"
     ]
    }
   ],
   "source": [
    "if not(M.is_trained):\n",
    "    X_train = D.data['X_train']\n",
    "    Y_train = D.data['Y_train']\n",
    "    M.fit(X_train, Y_train)                     \n",
    "\n",
    "Y_hat_train = M.predict(D.data['X_train']) # Optional, not really needed to test on taining examples\n",
    "Y_hat_valid = M.predict(D.data['X_valid'])\n",
    "Y_hat_test = M.predict(D.data['X_test'])"
   ]
  },
  {
   "cell_type": "markdown",
   "metadata": {},
   "source": [
    "<div style=\"background:#FFFFAA\">\n",
    "    <b> Save the trained model </b> (will be ready to reload next time around) and save the prediction results. IMPORTANT: if you save the trained model, it will be bundled with your sample code submission. Therefore your model will NOT be retrained on the challenge platform. Remove the pickle from the submission if you want the model to be retrained on the platform.\n",
    "</div>"
   ]
  },
  {
   "cell_type": "code",
   "execution_count": 19,
   "metadata": {},
   "outputs": [
    {
     "name": "stdout",
     "output_type": "stream",
     "text": [
      "sample_result_submission/malaria_test.predict\r\n",
      "sample_result_submission/malaria_train.predict\r\n",
      "sample_result_submission/malaria_valid.predict\r\n"
     ]
    }
   ],
   "source": [
    "M.save(trained_model_name)                 \n",
    "result_name = result_dir + data_name\n",
    "from data_io import write\n",
    "write(result_name + '_train.predict', Y_hat_train)\n",
    "write(result_name + '_valid.predict', Y_hat_valid)\n",
    "write(result_name + '_test.predict', Y_hat_test)\n",
    "!ls $result_name*"
   ]
  },
  {
   "cell_type": "markdown",
   "metadata": {},
   "source": [
    "<div style=\"background:#FFFFAA\">\n",
    "    <h2>Scoring the results</h2>\n",
    "    <h3>Load the challenge metric</h3>\n",
    "    <p>\n",
    "<b>The metric chosen for your challenge</b> is identified in the \"metric.txt\" file found in the `scoring_function/` directory. The function \"get_metric\" searches first for a metric having that name in my_metric.py, then in libscores.py, then in sklearn.metric.\n",
    "    </div>"
   ]
  },
  {
   "cell_type": "markdown",
   "metadata": {},
   "source": [
    "We use the area under the curve as our metric to evaluate our model for the moment. We chose this metric because accuracy gives us only the percentage of correctly classified examples, whereas what we are interested in is to have the lowest possible rate of false negatives (infected cells classifies as being healthy). The ROC curve we will get will help us to find a good threshold for this classification, which will not necessarily the one maximising the accuracy as the false negatives are critical in our case (but the true negatives can always be rechecked by experts). The AUC will then give us the general performance of our model given the fact that we want to maximize true positives and true negatives."
   ]
  },
  {
   "cell_type": "code",
   "execution_count": 20,
   "metadata": {},
   "outputs": [
    {
     "name": "stdout",
     "output_type": "stream",
     "text": [
      "Using scoring metric: roc_auc_score\n"
     ]
    }
   ],
   "source": [
    "from libscores import get_metric\n",
    "metric_name, scoring_function = get_metric()\n",
    "print('Using scoring metric:', metric_name)\n",
    "# Uncomment the next line to display the code of the scoring metric\n",
    "#??scoring_function"
   ]
  },
  {
   "cell_type": "markdown",
   "metadata": {},
   "source": [
    "<div style=\"background:#FFFFAA\">\n",
    "    <h3> Training performance </h3>\n",
    "    <p>\n",
    "The participants normally posess target values (labels) only for training examples (except for the sample data). We compute with the `example` metric the training score, which should be zero for perfect predictions.\n",
    "        </div>"
   ]
  },
  {
   "cell_type": "markdown",
   "metadata": {},
   "source": [
    "<div style=\"background:#AAFFCC\">\n",
    "On se rend compte que le score ne change jamais ce qui nous semble bizarre. Du coup on décide de supprimer certaines colonnes de X_train.\n",
    "</div>\n"
   ]
  },
  {
   "cell_type": "code",
   "execution_count": 21,
   "metadata": {},
   "outputs": [
    {
     "name": "stdout",
     "output_type": "stream",
     "text": [
      "[[4.88400000e+03 4.19514851e-01 5.29411765e-01 0.00000000e+00\n",
      "  0.00000000e+00 1.03800000e+03]\n",
      " [4.34700000e+03 5.19110529e-01 4.00000000e-01 1.00000000e+00\n",
      "  7.90000000e+01 6.71600000e+03]\n",
      " [4.93500000e+03 2.66897048e-01 5.68627451e-01 0.00000000e+00\n",
      "  0.00000000e+00 0.00000000e+00]\n",
      " ...\n",
      " [4.72800000e+03 1.22010949e+00 2.19607843e-01 1.55000000e+02\n",
      "  4.23000000e+02 1.63700000e+03]\n",
      " [3.00300000e+03 6.16387785e-01 4.47058824e-01 0.00000000e+00\n",
      "  1.80000000e+01 5.56100000e+03]\n",
      " [4.20300000e+03 1.11049994e-01 6.47058824e-01 0.00000000e+00\n",
      "  0.00000000e+00 0.00000000e+00]]\n"
     ]
    }
   ],
   "source": [
    "X_train = X_train[:,[0,5,7,14,15,16]]\n",
    "\n",
    "print(X_train)"
   ]
  },
  {
   "cell_type": "code",
   "execution_count": 22,
   "metadata": {},
   "outputs": [
    {
     "name": "stdout",
     "output_type": "stream",
     "text": [
      "Training score for the roc_auc_score metric = 0.9958\n",
      "Ideal score for the roc_auc_score metric = 1.0000\n"
     ]
    }
   ],
   "source": [
    "print('Training score for the', metric_name, 'metric = %5.4f' % scoring_function(Y_train, Y_hat_train))\n",
    "print('Ideal score for the', metric_name, 'metric = %5.4f' % scoring_function(Y_train, Y_train))"
   ]
  },
  {
   "cell_type": "markdown",
   "metadata": {},
   "source": [
    "You can add here other scores and result visualization."
   ]
  },
  {
   "cell_type": "code",
   "execution_count": 23,
   "metadata": {},
   "outputs": [
    {
     "data": {
      "text/plain": [
       "array([[8252,    6],\n",
       "       [  64, 8212]])"
      ]
     },
     "execution_count": 23,
     "metadata": {},
     "output_type": "execute_result"
    }
   ],
   "source": [
    "from sklearn.metrics import confusion_matrix\n",
    "confusion_matrix(Y_train, Y_hat_train)"
   ]
  },
  {
   "cell_type": "code",
   "execution_count": 24,
   "metadata": {},
   "outputs": [],
   "source": [
    "from sklearn.metrics import roc_curve, auc\n",
    "\n",
    "size = round(len(D.data['X_train'])/10)\n",
    "\n",
    "probas_ = M.classifier.fit(D.data['X_train'][:size], D.data['Y_train'][:size].ravel()).predict_proba(D.data['X_train'][size:])\n",
    "# Compute ROC curve and area the curve\n",
    "fpr, tpr, thresholds = roc_curve(D.data['Y_train'][size:].ravel(), probas_[:, 1])\n",
    "roc_auc = auc(fpr, tpr)"
   ]
  },
  {
   "cell_type": "code",
   "execution_count": 25,
   "metadata": {},
   "outputs": [
    {
     "data": {
      "image/png": "[encoded data removed]",
      "text/plain": [
       "<Figure size 576x504 with 1 Axes>"
      ]
     },
     "metadata": {
      "needs_background": "light"
     },
     "output_type": "display_data"
    }
   ],
   "source": [
    "import matplotlib.pyplot as plt\n",
    "\n",
    "plt.figure(figsize=(8, 7))\n",
    "\n",
    "plt.plot(fpr, tpr, color='darkorange', label='ROC curve (area = %0.2f)' % roc_auc)\n",
    "plt.plot([0, 1], [0, 1], color='navy', linestyle='--')\n",
    "plt.xlim([0.0, 1.0])\n",
    "plt.ylim([0.0, 1.05])\n",
    "plt.xlabel('False Positive Rate')\n",
    "plt.ylabel('True Positive Rate')\n",
    "plt.title('Receiver operating characteristic example')\n",
    "plt.legend(loc=\"lower right\")\n",
    "plt.show()"
   ]
  },
  {
   "cell_type": "markdown",
   "metadata": {},
   "source": [
    "This plot of the ROC curve is a good indicator for us to find a good threshold for our model, here we will prefer a very low rate of false negatives (1 - true positives rate). If we really want something near to 100% true positives, we might consider a model giving us 40% of false positive rate, we might consider that threshold as a medical diagnosis is a critical application."
   ]
  },
  {
   "cell_type": "markdown",
   "metadata": {},
   "source": [
    "<div style=\"background:#FFFFAA\">\n",
    "    <h3>Cross-validation performance</h3>\n",
    "    <p>\n",
    "The participants do not have access to the labels Y_valid and Y_test to self-assess their validation and test performances. But training performance is not a good prediction of validation or test performance. Using cross-validation, the training data is split into multiple training/test folds, which allows participants to self-assess their model during development. The average CV result and 95% confidence interval is displayed.\n",
    "   </div>"
   ]
  },
  {
   "cell_type": "code",
   "execution_count": 26,
   "metadata": {},
   "outputs": [
    {
     "name": "stdout",
     "output_type": "stream",
     "text": [
      "FIT: dim(X)= [13227, 6]\n",
      "FIT: dim(y)= [13227, 1]\n",
      "PREDICT: dim(X)= [3307, 6]\n",
      "PREDICT: dim(y)= [3307, 1]\n",
      "FIT: dim(X)= [13227, 6]\n",
      "FIT: dim(y)= [13227, 1]\n",
      "PREDICT: dim(X)= [3307, 6]\n",
      "PREDICT: dim(y)= [3307, 1]\n",
      "FIT: dim(X)= [13227, 6]\n",
      "FIT: dim(y)= [13227, 1]\n",
      "PREDICT: dim(X)= [3307, 6]\n",
      "PREDICT: dim(y)= [3307, 1]\n",
      "FIT: dim(X)= [13227, 6]\n",
      "FIT: dim(y)= [13227, 1]\n",
      "PREDICT: dim(X)= [3307, 6]\n",
      "PREDICT: dim(y)= [3307, 1]\n",
      "FIT: dim(X)= [13228, 6]\n",
      "FIT: dim(y)= [13228, 1]\n",
      "PREDICT: dim(X)= [3306, 6]\n",
      "PREDICT: dim(y)= [3306, 1]\n",
      "\n",
      "CV score (95 perc. CI): 0.95 (+/- 0.00)\n"
     ]
    },
    {
     "data": {
      "text/plain": [
       "array([0.95236631, 0.94810017, 0.94612155, 0.95099814, 0.94880026])"
      ]
     },
     "execution_count": 26,
     "metadata": {},
     "output_type": "execute_result"
    }
   ],
   "source": [
    "from sklearn.metrics import make_scorer\n",
    "from sklearn.model_selection import cross_val_score\n",
    "M= model ()\n",
    "scores = cross_val_score(M, X_train, Y_train, cv=5, scoring=make_scorer(scoring_function))\n",
    "print('\\nCV score (95 perc. CI): %0.2f (+/- %0.2f)' % (scores.mean(), scores.std() * 2))\n",
    "scores"
   ]
  },
  {
   "cell_type": "markdown",
   "metadata": {},
   "source": [
    "<div style=\"background:#AAFFCC\">\n",
    "De base, on a cet array : \n",
    "array([0.9536122 , 0.95384373, 0.94671811, 0.95639702, 0.95031821])\n",
    "    \n",
    "On se rend compte que l'array qu'on a trouvé ici en enlevant des colonnes n'est pas si différent de ce qu'on avait avant. On décide donc de ne garder que les 5 colonnes de features les plus importantes meme si il y a une petite dégradation du score, on choisit de garder moins de features.\n",
    "</div>"
   ]
  },
  {
   "cell_type": "code",
   "execution_count": 27,
   "metadata": {},
   "outputs": [
    {
     "name": "stdout",
     "output_type": "stream",
     "text": [
      "FIT: dim(X)= [13227, 5]\n",
      "FIT: dim(y)= [13227, 1]\n",
      "PREDICT: dim(X)= [3307, 5]\n",
      "PREDICT: dim(y)= [3307, 1]\n",
      "FIT: dim(X)= [13227, 5]\n",
      "FIT: dim(y)= [13227, 1]\n",
      "PREDICT: dim(X)= [3307, 5]\n",
      "PREDICT: dim(y)= [3307, 1]\n",
      "FIT: dim(X)= [13227, 5]\n",
      "FIT: dim(y)= [13227, 1]\n",
      "PREDICT: dim(X)= [3307, 5]\n",
      "PREDICT: dim(y)= [3307, 1]\n",
      "FIT: dim(X)= [13227, 5]\n",
      "FIT: dim(y)= [13227, 1]\n",
      "PREDICT: dim(X)= [3307, 5]\n",
      "PREDICT: dim(y)= [3307, 1]\n",
      "FIT: dim(X)= [13228, 5]\n",
      "FIT: dim(y)= [13228, 1]\n",
      "PREDICT: dim(X)= [3306, 5]\n",
      "PREDICT: dim(y)= [3306, 1]\n",
      "\n",
      "CV score without the black_pixels attribute (95 perc. CI): 0.95 (+/- 0.00)\n"
     ]
    },
    {
     "data": {
      "text/plain": [
       "array([0.94967774, 0.94533437, 0.94521848, 0.94978815, 0.94822456])"
      ]
     },
     "execution_count": 27,
     "metadata": {},
     "output_type": "execute_result"
    }
   ],
   "source": [
    "data2 = data.drop(['nb_black_pixels'], axis=1)\n",
    "X_train2 = data2.drop(['target'], axis= 1)\n",
    "X_train2\n",
    "M = model()\n",
    "scores = cross_val_score(M, X_train2, Y_train, cv=5, scoring=make_scorer(scoring_function))\n",
    "print('\\nCV score without the black_pixels attribute (95 perc. CI): %0.2f (+/- %0.2f)' % (scores.mean(), scores.std() * 2))\n",
    "scores"
   ]
  },
  {
   "cell_type": "markdown",
   "metadata": {},
   "source": [
    "The scores of our model with and without the nb_black_pixels attribute is the same. Therefore we can conclude that there is no data leakage."
   ]
  },
  {
   "cell_type": "markdown",
   "metadata": {},
   "source": [
    "____"
   ]
  },
  {
   "cell_type": "markdown",
   "metadata": {},
   "source": [
    "### Feature importance"
   ]
  },
  {
   "cell_type": "markdown",
   "metadata": {},
   "source": [
    "The advantage of using a Random forest models is that we can evaluate which feature in taken into account  when predicting the target classes, here you can have an idea of which feature was the most relevant for solving our task"
   ]
  },
  {
   "cell_type": "code",
   "execution_count": 28,
   "metadata": {},
   "outputs": [
    {
     "data": {
      "image/png": "[encoded data removed]",
      "text/plain": [
       "<Figure size 648x504 with 1 Axes>"
      ]
     },
     "metadata": {
      "needs_background": "light"
     },
     "output_type": "display_data"
    }
   ],
   "source": [
    "import pandas as pd#\n",
    "\n",
    "feature_importance = pd.DataFrame(M.classifier.feature_importances_,index= list(data_copy)[:19], columns=['feature importance']).sort_values('feature importance', ascending = False)\n",
    "feature_importance.plot.bar(figsize=(9,7))\n",
    "plt.show()"
   ]
  },
  {
   "cell_type": "markdown",
   "metadata": {},
   "source": [
    "\n",
    "\n",
    "<div style=\"background:#FFFFAA\">\n",
    "<h1> Step 3: Making a submission </h1> \n",
    "\n",
    "<h2> Unit testing </h2> \n",
    "\n",
    "It is <b><span style=\"color:red\">important that you test your submission files before submitting them</span></b>. All you have to do to make a submission is modify the file <code>model.py</code> in the <code>sample_code_submission/</code> directory, then run this test to make sure everything works fine. This is the actual program that will be run on the server to test your submission. \n",
    "<br>\n",
    "Keep the sample code simple.\n",
    "</div>"
   ]
  },
  {
   "cell_type": "code",
   "execution_count": 29,
   "metadata": {
    "scrolled": true
   },
   "outputs": [
    {
     "name": "stdout",
     "output_type": "stream",
     "text": [
      "/bin/sh: 1: source: not found\n",
      "Using input_dir: /home/tp-home002/ctrupin/Bureau/malaria/starting_kit/public_data\n",
      "Using output_dir: /home/tp-home002/ctrupin/Bureau/malaria/starting_kit/sample_result_submission\n",
      "Using program_dir: /home/tp-home002/ctrupin/Bureau/malaria/starting_kit/ingestion_program\n",
      "Using submission_dir: /home/tp-home002/ctrupin/Bureau/malaria/starting_kit/sample_code_submission\n",
      "\n",
      "========== Ingestion program version 6 ==========\n",
      "\n",
      "************************************************\n",
      "******** Processing dataset Malaria ********\n",
      "************************************************\n",
      "========= Reading and converting data ==========\n",
      "Info file found : /home/tp-home002/ctrupin/Bureau/malaria/starting_kit/public_data/malaria_public.info\n",
      "========= Reading /home/tp-home002/ctrupin/Bureau/malaria/starting_kit/public_data/malaria_feat.type\n",
      "[+] Success in  0.00 sec\n",
      "========= Reading /home/tp-home002/ctrupin/Bureau/malaria/starting_kit/public_data/malaria_train.data\n",
      "Replace missing values by 0 (slow, sorry)\n",
      "[+] Success in  0.11 sec\n",
      "========= Reading /home/tp-home002/ctrupin/Bureau/malaria/starting_kit/public_data/malaria_train.solution\n",
      "[+] Success in  0.01 sec\n",
      "========= Reading /home/tp-home002/ctrupin/Bureau/malaria/starting_kit/public_data/malaria_valid.data\n",
      "Replace missing values by 0 (slow, sorry)\n",
      "[+] Success in  0.03 sec\n",
      "========= Reading /home/tp-home002/ctrupin/Bureau/malaria/starting_kit/public_data/malaria_valid.solution\n",
      "[+] Success in  0.00 sec\n",
      "========= Reading /home/tp-home002/ctrupin/Bureau/malaria/starting_kit/public_data/malaria_test.data\n",
      "Replace missing values by 0 (slow, sorry)\n",
      "[+] Success in  0.04 sec\n",
      "========= Reading /home/tp-home002/ctrupin/Bureau/malaria/starting_kit/public_data/malaria_test.solution\n",
      "[+] Success in  0.00 sec\n",
      "DataManager : malaria\n",
      "info:\n",
      "\tusage = Malaria cell images dataset\n",
      "\tname = malaria\n",
      "\ttask = binary.classification\n",
      "\ttarget_type = Numerical\n",
      "\tfeat_type = Numerical\n",
      "\tmetric = roc_auc_score\n",
      "\ttime_budget = 1200\n",
      "\tfeat_num = 19\n",
      "\ttarget_num = 2\n",
      "\tlabel_num = 2\n",
      "\ttrain_num = 16534\n",
      "\tvalid_num = 5512\n",
      "\ttest_num = 5512\n",
      "\thas_categorical = 0\n",
      "\thas_missing = 0\n",
      "\tis_sparse = 0\n",
      "\tformat = dense\n",
      "data:\n",
      "\tX_train = array(16534, 19)\n",
      "\tY_train = array(16534,)\n",
      "\tX_valid = array(5512, 19)\n",
      "\tY_valid = array(0,)\n",
      "\tX_test = array(5512, 19)\n",
      "\tY_test = array(0,)\n",
      "feat_type:\tarray(19,)\n",
      "feat_idx:\tarray(19,)\n",
      "\n",
      "[+] Size of uploaded data  56.00 bytes\n",
      "[+] Cumulated time budget (all tasks so far)  1200.00 sec\n",
      "[+] Time budget for this task 1200.00 sec\n",
      "[+] Remaining time after reading data 1199.82 sec\n",
      "======== Creating model ==========\n",
      "**********************************************************\n",
      "****** Attempting to reload model to avoid training ******\n",
      "**********************************************************\n",
      "Model reloaded from: /home/tp-home002/ctrupin/Bureau/malaria/starting_kit/sample_code_submission/malaria_model.pickle\n",
      "[+] Model reloaded, no need to train!\n",
      "PREDICT: dim(X)= [16534, 19]\n",
      "PREDICT: dim(y)= [16534, 1]\n",
      "PREDICT: dim(X)= [5512, 19]\n",
      "PREDICT: dim(y)= [5512, 1]\n",
      "PREDICT: dim(X)= [5512, 19]\n",
      "PREDICT: dim(y)= [5512, 1]\n",
      "[+] Prediction success, time spent so far  0.22 sec\n",
      "======== Saving results to: /home/tp-home002/ctrupin/Bureau/malaria/starting_kit/sample_result_submission\n",
      "[+] Results saved, time spent so far  0.26 sec\n",
      "[+] End cycle, time left 1199.74 sec\n",
      "[+] Done\n",
      "[+] Overall time spent  0.80 sec ::  Overall time budget 1200.00 sec\n"
     ]
    }
   ],
   "source": [
    "!source activate python3; python $problem_dir/ingestion.py $data_dir $result_dir $problem_dir $model_dir"
   ]
  },
  {
   "cell_type": "markdown",
   "metadata": {},
   "source": [
    "<div style=\"background:#FFFFAA\">\n",
    "Also test the scoring program:\n",
    "    </div>"
   ]
  },
  {
   "cell_type": "code",
   "execution_count": 30,
   "metadata": {},
   "outputs": [
    {
     "name": "stdout",
     "output_type": "stream",
     "text": [
      "======= Set 1 (Malaria_train): roc_auc_score(set1_score)=0.995770113689 =======\r\n"
     ]
    }
   ],
   "source": [
    "scoring_output_dir = 'scoring_output'\n",
    "!python $score_dir/score.py $data_dir $result_dir $scoring_output_dir"
   ]
  },
  {
   "cell_type": "markdown",
   "metadata": {},
   "source": [
    "## Parameter optimization to try to improve the area under the roc curve."
   ]
  },
  {
   "cell_type": "code",
   "execution_count": 31,
   "metadata": {},
   "outputs": [
    {
     "name": "stdout",
     "output_type": "stream",
     "text": [
      "FIT: dim(X)= [13227, 6]\n",
      "FIT: dim(y)= [13227, 1]\n",
      "PREDICT: dim(X)= [3307, 6]\n",
      "PREDICT: dim(y)= [3307, 1]\n",
      "FIT: dim(X)= [13227, 6]\n",
      "FIT: dim(y)= [13227, 1]\n",
      "PREDICT: dim(X)= [3307, 6]\n",
      "PREDICT: dim(y)= [3307, 1]\n",
      "FIT: dim(X)= [13227, 6]\n",
      "FIT: dim(y)= [13227, 1]\n",
      "PREDICT: dim(X)= [3307, 6]\n",
      "PREDICT: dim(y)= [3307, 1]\n",
      "FIT: dim(X)= [13227, 6]\n",
      "FIT: dim(y)= [13227, 1]\n",
      "PREDICT: dim(X)= [3307, 6]\n",
      "PREDICT: dim(y)= [3307, 1]\n",
      "FIT: dim(X)= [13228, 6]\n",
      "FIT: dim(y)= [13228, 1]\n",
      "PREDICT: dim(X)= [3306, 6]\n",
      "PREDICT: dim(y)= [3306, 1]\n",
      "FIT: dim(X)= [13227, 6]\n",
      "FIT: dim(y)= [13227, 1]\n",
      "PREDICT: dim(X)= [3307, 6]\n",
      "PREDICT: dim(y)= [3307, 1]\n",
      "FIT: dim(X)= [13227, 6]\n",
      "FIT: dim(y)= [13227, 1]\n",
      "PREDICT: dim(X)= [3307, 6]\n",
      "PREDICT: dim(y)= [3307, 1]\n",
      "FIT: dim(X)= [13227, 6]\n",
      "FIT: dim(y)= [13227, 1]\n",
      "PREDICT: dim(X)= [3307, 6]\n",
      "PREDICT: dim(y)= [3307, 1]\n",
      "FIT: dim(X)= [13227, 6]\n",
      "FIT: dim(y)= [13227, 1]\n",
      "PREDICT: dim(X)= [3307, 6]\n",
      "PREDICT: dim(y)= [3307, 1]\n",
      "FIT: dim(X)= [13228, 6]\n",
      "FIT: dim(y)= [13228, 1]\n",
      "PREDICT: dim(X)= [3306, 6]\n",
      "PREDICT: dim(y)= [3306, 1]\n",
      "FIT: dim(X)= [13227, 6]\n",
      "FIT: dim(y)= [13227, 1]\n",
      "PREDICT: dim(X)= [3307, 6]\n",
      "PREDICT: dim(y)= [3307, 1]\n",
      "FIT: dim(X)= [13227, 6]\n",
      "FIT: dim(y)= [13227, 1]\n",
      "PREDICT: dim(X)= [3307, 6]\n",
      "PREDICT: dim(y)= [3307, 1]\n",
      "FIT: dim(X)= [13227, 6]\n",
      "FIT: dim(y)= [13227, 1]\n",
      "PREDICT: dim(X)= [3307, 6]\n",
      "PREDICT: dim(y)= [3307, 1]\n",
      "FIT: dim(X)= [13227, 6]\n",
      "FIT: dim(y)= [13227, 1]\n",
      "PREDICT: dim(X)= [3307, 6]\n",
      "PREDICT: dim(y)= [3307, 1]\n",
      "FIT: dim(X)= [13228, 6]\n",
      "FIT: dim(y)= [13228, 1]\n",
      "PREDICT: dim(X)= [3306, 6]\n",
      "PREDICT: dim(y)= [3306, 1]\n",
      "FIT: dim(X)= [13227, 6]\n",
      "FIT: dim(y)= [13227, 1]\n",
      "PREDICT: dim(X)= [3307, 6]\n",
      "PREDICT: dim(y)= [3307, 1]\n",
      "FIT: dim(X)= [13227, 6]\n",
      "FIT: dim(y)= [13227, 1]\n",
      "PREDICT: dim(X)= [3307, 6]\n",
      "PREDICT: dim(y)= [3307, 1]\n",
      "FIT: dim(X)= [13227, 6]\n",
      "FIT: dim(y)= [13227, 1]\n",
      "PREDICT: dim(X)= [3307, 6]\n",
      "PREDICT: dim(y)= [3307, 1]\n",
      "FIT: dim(X)= [13227, 6]\n",
      "FIT: dim(y)= [13227, 1]\n",
      "PREDICT: dim(X)= [3307, 6]\n",
      "PREDICT: dim(y)= [3307, 1]\n",
      "FIT: dim(X)= [13228, 6]\n",
      "FIT: dim(y)= [13228, 1]\n",
      "PREDICT: dim(X)= [3306, 6]\n",
      "PREDICT: dim(y)= [3306, 1]\n",
      "FIT: dim(X)= [13227, 6]\n",
      "FIT: dim(y)= [13227, 1]\n",
      "PREDICT: dim(X)= [3307, 6]\n",
      "PREDICT: dim(y)= [3307, 1]\n",
      "FIT: dim(X)= [13227, 6]\n",
      "FIT: dim(y)= [13227, 1]\n",
      "PREDICT: dim(X)= [3307, 6]\n",
      "PREDICT: dim(y)= [3307, 1]\n",
      "FIT: dim(X)= [13227, 6]\n",
      "FIT: dim(y)= [13227, 1]\n",
      "PREDICT: dim(X)= [3307, 6]\n",
      "PREDICT: dim(y)= [3307, 1]\n",
      "FIT: dim(X)= [13227, 6]\n",
      "FIT: dim(y)= [13227, 1]\n",
      "PREDICT: dim(X)= [3307, 6]\n",
      "PREDICT: dim(y)= [3307, 1]\n",
      "FIT: dim(X)= [13228, 6]\n",
      "FIT: dim(y)= [13228, 1]\n",
      "PREDICT: dim(X)= [3306, 6]\n",
      "PREDICT: dim(y)= [3306, 1]\n",
      "FIT: dim(X)= [13227, 6]\n",
      "FIT: dim(y)= [13227, 1]\n",
      "PREDICT: dim(X)= [3307, 6]\n",
      "PREDICT: dim(y)= [3307, 1]\n",
      "FIT: dim(X)= [13227, 6]\n",
      "FIT: dim(y)= [13227, 1]\n",
      "PREDICT: dim(X)= [3307, 6]\n",
      "PREDICT: dim(y)= [3307, 1]\n",
      "FIT: dim(X)= [13227, 6]\n",
      "FIT: dim(y)= [13227, 1]\n",
      "PREDICT: dim(X)= [3307, 6]\n",
      "PREDICT: dim(y)= [3307, 1]\n",
      "FIT: dim(X)= [13227, 6]\n",
      "FIT: dim(y)= [13227, 1]\n",
      "PREDICT: dim(X)= [3307, 6]\n",
      "PREDICT: dim(y)= [3307, 1]\n",
      "FIT: dim(X)= [13228, 6]\n",
      "FIT: dim(y)= [13228, 1]\n",
      "PREDICT: dim(X)= [3306, 6]\n",
      "PREDICT: dim(y)= [3306, 1]\n",
      "FIT: dim(X)= [13227, 6]\n",
      "FIT: dim(y)= [13227, 1]\n",
      "PREDICT: dim(X)= [3307, 6]\n",
      "PREDICT: dim(y)= [3307, 1]\n",
      "FIT: dim(X)= [13227, 6]\n",
      "FIT: dim(y)= [13227, 1]\n",
      "PREDICT: dim(X)= [3307, 6]\n",
      "PREDICT: dim(y)= [3307, 1]\n",
      "FIT: dim(X)= [13227, 6]\n",
      "FIT: dim(y)= [13227, 1]\n",
      "PREDICT: dim(X)= [3307, 6]\n",
      "PREDICT: dim(y)= [3307, 1]\n",
      "FIT: dim(X)= [13227, 6]\n",
      "FIT: dim(y)= [13227, 1]\n",
      "PREDICT: dim(X)= [3307, 6]\n",
      "PREDICT: dim(y)= [3307, 1]\n",
      "FIT: dim(X)= [13228, 6]\n",
      "FIT: dim(y)= [13228, 1]\n",
      "PREDICT: dim(X)= [3306, 6]\n",
      "PREDICT: dim(y)= [3306, 1]\n",
      "FIT: dim(X)= [13227, 6]\n",
      "FIT: dim(y)= [13227, 1]\n",
      "PREDICT: dim(X)= [3307, 6]\n",
      "PREDICT: dim(y)= [3307, 1]\n",
      "FIT: dim(X)= [13227, 6]\n",
      "FIT: dim(y)= [13227, 1]\n",
      "PREDICT: dim(X)= [3307, 6]\n",
      "PREDICT: dim(y)= [3307, 1]\n",
      "FIT: dim(X)= [13227, 6]\n",
      "FIT: dim(y)= [13227, 1]\n",
      "PREDICT: dim(X)= [3307, 6]\n",
      "PREDICT: dim(y)= [3307, 1]\n",
      "FIT: dim(X)= [13227, 6]\n",
      "FIT: dim(y)= [13227, 1]\n",
      "PREDICT: dim(X)= [3307, 6]\n",
      "PREDICT: dim(y)= [3307, 1]\n",
      "FIT: dim(X)= [13228, 6]\n",
      "FIT: dim(y)= [13228, 1]\n",
      "PREDICT: dim(X)= [3306, 6]\n",
      "PREDICT: dim(y)= [3306, 1]\n",
      "FIT: dim(X)= [13227, 6]\n",
      "FIT: dim(y)= [13227, 1]\n",
      "PREDICT: dim(X)= [3307, 6]\n",
      "PREDICT: dim(y)= [3307, 1]\n",
      "FIT: dim(X)= [13227, 6]\n",
      "FIT: dim(y)= [13227, 1]\n",
      "PREDICT: dim(X)= [3307, 6]\n",
      "PREDICT: dim(y)= [3307, 1]\n",
      "FIT: dim(X)= [13227, 6]\n",
      "FIT: dim(y)= [13227, 1]\n",
      "PREDICT: dim(X)= [3307, 6]\n",
      "PREDICT: dim(y)= [3307, 1]\n",
      "FIT: dim(X)= [13227, 6]\n",
      "FIT: dim(y)= [13227, 1]\n",
      "PREDICT: dim(X)= [3307, 6]\n",
      "PREDICT: dim(y)= [3307, 1]\n",
      "FIT: dim(X)= [13228, 6]\n",
      "FIT: dim(y)= [13228, 1]\n",
      "PREDICT: dim(X)= [3306, 6]\n",
      "PREDICT: dim(y)= [3306, 1]\n",
      "FIT: dim(X)= [13227, 6]\n",
      "FIT: dim(y)= [13227, 1]\n",
      "PREDICT: dim(X)= [3307, 6]\n",
      "PREDICT: dim(y)= [3307, 1]\n",
      "FIT: dim(X)= [13227, 6]\n",
      "FIT: dim(y)= [13227, 1]\n",
      "PREDICT: dim(X)= [3307, 6]\n",
      "PREDICT: dim(y)= [3307, 1]\n",
      "FIT: dim(X)= [13227, 6]\n",
      "FIT: dim(y)= [13227, 1]\n",
      "PREDICT: dim(X)= [3307, 6]\n",
      "PREDICT: dim(y)= [3307, 1]\n",
      "FIT: dim(X)= [13227, 6]\n",
      "FIT: dim(y)= [13227, 1]\n",
      "PREDICT: dim(X)= [3307, 6]\n",
      "PREDICT: dim(y)= [3307, 1]\n",
      "FIT: dim(X)= [13228, 6]\n",
      "FIT: dim(y)= [13228, 1]\n",
      "PREDICT: dim(X)= [3306, 6]\n",
      "PREDICT: dim(y)= [3306, 1]\n",
      "FIT: dim(X)= [13227, 6]\n",
      "FIT: dim(y)= [13227, 1]\n",
      "PREDICT: dim(X)= [3307, 6]\n",
      "PREDICT: dim(y)= [3307, 1]\n",
      "FIT: dim(X)= [13227, 6]\n",
      "FIT: dim(y)= [13227, 1]\n",
      "PREDICT: dim(X)= [3307, 6]\n",
      "PREDICT: dim(y)= [3307, 1]\n",
      "FIT: dim(X)= [13227, 6]\n",
      "FIT: dim(y)= [13227, 1]\n",
      "PREDICT: dim(X)= [3307, 6]\n",
      "PREDICT: dim(y)= [3307, 1]\n",
      "FIT: dim(X)= [13227, 6]\n",
      "FIT: dim(y)= [13227, 1]\n",
      "PREDICT: dim(X)= [3307, 6]\n",
      "PREDICT: dim(y)= [3307, 1]\n",
      "FIT: dim(X)= [13228, 6]\n",
      "FIT: dim(y)= [13228, 1]\n",
      "PREDICT: dim(X)= [3306, 6]\n",
      "PREDICT: dim(y)= [3306, 1]\n",
      "FIT: dim(X)= [13227, 6]\n",
      "FIT: dim(y)= [13227, 1]\n",
      "PREDICT: dim(X)= [3307, 6]\n",
      "PREDICT: dim(y)= [3307, 1]\n",
      "FIT: dim(X)= [13227, 6]\n",
      "FIT: dim(y)= [13227, 1]\n",
      "PREDICT: dim(X)= [3307, 6]\n",
      "PREDICT: dim(y)= [3307, 1]\n",
      "FIT: dim(X)= [13227, 6]\n",
      "FIT: dim(y)= [13227, 1]\n",
      "PREDICT: dim(X)= [3307, 6]\n",
      "PREDICT: dim(y)= [3307, 1]\n",
      "FIT: dim(X)= [13227, 6]\n",
      "FIT: dim(y)= [13227, 1]\n",
      "PREDICT: dim(X)= [3307, 6]\n",
      "PREDICT: dim(y)= [3307, 1]\n",
      "FIT: dim(X)= [13228, 6]\n",
      "FIT: dim(y)= [13228, 1]\n",
      "PREDICT: dim(X)= [3306, 6]\n",
      "PREDICT: dim(y)= [3306, 1]\n",
      "FIT: dim(X)= [13227, 6]\n",
      "FIT: dim(y)= [13227, 1]\n",
      "PREDICT: dim(X)= [3307, 6]\n",
      "PREDICT: dim(y)= [3307, 1]\n",
      "FIT: dim(X)= [13227, 6]\n",
      "FIT: dim(y)= [13227, 1]\n",
      "PREDICT: dim(X)= [3307, 6]\n",
      "PREDICT: dim(y)= [3307, 1]\n",
      "FIT: dim(X)= [13227, 6]\n",
      "FIT: dim(y)= [13227, 1]\n",
      "PREDICT: dim(X)= [3307, 6]\n",
      "PREDICT: dim(y)= [3307, 1]\n",
      "FIT: dim(X)= [13227, 6]\n",
      "FIT: dim(y)= [13227, 1]\n",
      "PREDICT: dim(X)= [3307, 6]\n",
      "PREDICT: dim(y)= [3307, 1]\n",
      "FIT: dim(X)= [13228, 6]\n",
      "FIT: dim(y)= [13228, 1]\n",
      "PREDICT: dim(X)= [3306, 6]\n",
      "PREDICT: dim(y)= [3306, 1]\n",
      "FIT: dim(X)= [13227, 6]\n",
      "FIT: dim(y)= [13227, 1]\n",
      "PREDICT: dim(X)= [3307, 6]\n",
      "PREDICT: dim(y)= [3307, 1]\n",
      "FIT: dim(X)= [13227, 6]\n",
      "FIT: dim(y)= [13227, 1]\n",
      "PREDICT: dim(X)= [3307, 6]\n",
      "PREDICT: dim(y)= [3307, 1]\n",
      "FIT: dim(X)= [13227, 6]\n",
      "FIT: dim(y)= [13227, 1]\n",
      "PREDICT: dim(X)= [3307, 6]\n",
      "PREDICT: dim(y)= [3307, 1]\n",
      "FIT: dim(X)= [13227, 6]\n",
      "FIT: dim(y)= [13227, 1]\n",
      "PREDICT: dim(X)= [3307, 6]\n",
      "PREDICT: dim(y)= [3307, 1]\n",
      "FIT: dim(X)= [13228, 6]\n",
      "FIT: dim(y)= [13228, 1]\n",
      "PREDICT: dim(X)= [3306, 6]\n",
      "PREDICT: dim(y)= [3306, 1]\n",
      "FIT: dim(X)= [13227, 6]\n",
      "FIT: dim(y)= [13227, 1]\n",
      "PREDICT: dim(X)= [3307, 6]\n",
      "PREDICT: dim(y)= [3307, 1]\n",
      "FIT: dim(X)= [13227, 6]\n",
      "FIT: dim(y)= [13227, 1]\n",
      "PREDICT: dim(X)= [3307, 6]\n",
      "PREDICT: dim(y)= [3307, 1]\n",
      "FIT: dim(X)= [13227, 6]\n",
      "FIT: dim(y)= [13227, 1]\n",
      "PREDICT: dim(X)= [3307, 6]\n",
      "PREDICT: dim(y)= [3307, 1]\n",
      "FIT: dim(X)= [13227, 6]\n",
      "FIT: dim(y)= [13227, 1]\n",
      "PREDICT: dim(X)= [3307, 6]\n",
      "PREDICT: dim(y)= [3307, 1]\n",
      "FIT: dim(X)= [13228, 6]\n",
      "FIT: dim(y)= [13228, 1]\n",
      "PREDICT: dim(X)= [3306, 6]\n",
      "PREDICT: dim(y)= [3306, 1]\n",
      "FIT: dim(X)= [13227, 6]\n",
      "FIT: dim(y)= [13227, 1]\n",
      "PREDICT: dim(X)= [3307, 6]\n",
      "PREDICT: dim(y)= [3307, 1]\n",
      "FIT: dim(X)= [13227, 6]\n",
      "FIT: dim(y)= [13227, 1]\n",
      "PREDICT: dim(X)= [3307, 6]\n",
      "PREDICT: dim(y)= [3307, 1]\n",
      "FIT: dim(X)= [13227, 6]\n",
      "FIT: dim(y)= [13227, 1]\n",
      "PREDICT: dim(X)= [3307, 6]\n",
      "PREDICT: dim(y)= [3307, 1]\n",
      "FIT: dim(X)= [13227, 6]\n",
      "FIT: dim(y)= [13227, 1]\n",
      "PREDICT: dim(X)= [3307, 6]\n",
      "PREDICT: dim(y)= [3307, 1]\n",
      "FIT: dim(X)= [13228, 6]\n",
      "FIT: dim(y)= [13228, 1]\n",
      "PREDICT: dim(X)= [3306, 6]\n",
      "PREDICT: dim(y)= [3306, 1]\n"
     ]
    }
   ],
   "source": [
    "from sklearn.model_selection import ParameterGrid\n",
    "from sklearn.ensemble import RandomForestClassifier\n",
    "\n",
    "# import os\n",
    "# import sys\n",
    "# sys.stdout = open(os.devnull, 'w')\n",
    "\n",
    "# Define the hyperparameters\n",
    "hyperparameters = {\n",
    "    'max_depth': [5, 10, 20,40], \n",
    "    'n_estimators' : [2,10, 20, 100] }\n",
    "\n",
    "# Compute all combinations\n",
    "parameter_grid = list(ParameterGrid(hyperparameters))\n",
    "\n",
    "# Just a table to save the results\n",
    "#resultsDF = pd.DataFrame(columns=['factors', 'regularization', 'alpha', 'auc'])\n",
    "resultsDF = pd.DataFrame()\n",
    "\n",
    "for parameter_combination in parameter_grid:    \n",
    "    clf = RandomForestClassifier (random_state = 42, n_estimators =parameter_combination['n_estimators'],max_depth =parameter_combination['max_depth'])\n",
    "    M = model (classifier=clf)\n",
    "    \n",
    "    \n",
    "    scores = cross_val_score(M, X_train, Y_train, cv=5, scoring=make_scorer(scoring_function))\n",
    "    \n",
    "    \n",
    "    parameter_combination['auc'] = scores.mean()\n",
    "    \n",
    "    resultsDF = resultsDF.append(parameter_combination, ignore_index=True)\n",
    "    \n",
    "res = resultsDF.sort_values(by=['auc'], ascending=False)\n"
   ]
  },
  {
   "cell_type": "markdown",
   "metadata": {
    "collapsed": true
   },
   "source": [
    "<div style=\"background:#FFFFAA\">\n",
    "    <h1> Preparing the submission </h1>\n",
    "\n",
    "Zip the contents of `sample_code_submission/` (without the directory), or download the challenge public_data and run the command in the previous cell, after replacing sample_data by public_data.\n",
    "Then zip the contents of `sample_result_submission/` (without the directory).\n",
    "<b><span style=\"color:red\">Do NOT zip the data with your submissions</span></b>."
   ]
  },
  {
   "cell_type": "code",
   "execution_count": 32,
   "metadata": {},
   "outputs": [
    {
     "name": "stdout",
     "output_type": "stream",
     "text": [
      "Submit one of these files:\n",
      "../sample_code_submission_20-02-28-08-45.zip\n",
      "../sample_result_submission_20-02-28-08-45.zip\n"
     ]
    }
   ],
   "source": [
    "import datetime \n",
    "from data_io import zipdir\n",
    "\n",
    "the_date = datetime.datetime.now().strftime(\"%y-%m-%d-%H-%M\")\n",
    "sample_code_submission = '../sample_code_submission_' + the_date + '.zip'\n",
    "sample_result_submission = '../sample_result_submission_' + the_date + '.zip'\n",
    "zipdir(sample_code_submission, model_dir)\n",
    "zipdir(sample_result_submission, result_dir)\n",
    "print(\"Submit one of these files:\\n\" + sample_code_submission + \"\\n\" + sample_result_submission)"
   ]
  },
  {
   "cell_type": "code",
   "execution_count": null,
   "metadata": {},
   "outputs": [],
   "source": []
  }
 ],
 "metadata": {
  "kernelspec": {
   "display_name": "Python 3",
   "language": "python",
   "name": "python3"
  },
  "language_info": {
   "codemirror_mode": {
    "name": "ipython",
    "version": 3
   },
   "file_extension": ".py",
   "mimetype": "text/x-python",
   "name": "python",
   "nbconvert_exporter": "python",
   "pygments_lexer": "ipython3",
   "version": "3.7.3"
  }
 },
 "nbformat": 4,
 "nbformat_minor": 1
}
