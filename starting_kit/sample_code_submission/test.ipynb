{
 "cells": [
  {
   "cell_type": "raw",
   "metadata": {},
   "source": [
    "Fichier de test de la classe model avant soumission sur Codalab\n",
    "\n",
    "Contributeurs principaux :                                                                 \n",
    "------------------------                                                                   \n",
    "1. Partie Preprocessing -> Alicia Bec & Charlotte Trupin                                   \n",
    "2. Partie Model -> Maxime Vincent & Baptiste Maquet                                        \n",
    "3. Partie Visualization -> Sakina Atia & Mathilde Lasseigne\n",
    "\n",
    "Historique des modifications :\n",
    "----------------------------\n",
    "0. Sélection des import nécessaires et du code pour charger la base de données\n",
    "1. Ajout d'une méthode imitant le code exécuté sous Codalab\n",
    "2. Test de la fonction codalab pour obtenir un score\n",
    "3. Lancement de l'optimisation des hyperparamètres\n",
    "4. Tests unitaires de l'optimisation des hyperparamètres\n",
    "5. Lancement de l'optimisation du preprocessing\n",
    "6. Tests unitaires de l'optimisation du preprocessing\n",
    "7. Affichage des matrices de confusion\n",
    "8. Découverte d'une erreur des méthodes model::save et model::load\n",
    "\n",
    "Date de dernière modification :\n",
    "-----------------------------\n",
    "https://github.com/charlottetrupin/malaria/commits/master/starting_kit/sample_code_submission/test.ipynb"
   ]
  },
  {
   "cell_type": "code",
   "execution_count": 3,
   "metadata": {},
   "outputs": [],
   "source": [
    "import warnings\n",
    "from sys import path; path.append(\"../ingestion_program\") # Pour l'accès à DataManager\n",
    "from model import model, preprocess # Modèle avec méthodes\n",
    "from data_manager import DataManager # Gestion du jeu de données\n",
    "from sklearn.model_selection import train_test_split # Découpage du jeu de données"
   ]
  },
  {
   "cell_type": "code",
   "execution_count": 4,
   "metadata": {},
   "outputs": [
    {
     "name": "stdout",
     "output_type": "stream",
     "text": [
      "Info file found : /home/tp-home003/mvincen1/L2/S4/malaria/starting_kit/public_data/malaria_public.info\n"
     ]
    }
   ],
   "source": [
    "data_dir = '../public_data'\n",
    "data_name = 'malaria'\n",
    "D = DataManager(data_name, data_dir, replace_missing=True)\n",
    "X_train, X_test, y_train, y_test = train_test_split(D.data['X_train'], D.data['Y_train'], test_size=0.33, random_state=42)"
   ]
  },
  {
   "cell_type": "code",
   "execution_count": 3,
   "metadata": {},
   "outputs": [],
   "source": [
    "def codalab():\n",
    "    \"\"\" Le code mystique de Codalab \"\"\"\n",
    "    \n",
    "    # Instance de model\n",
    "    M = model()\n",
    "\n",
    "    # Entrainement du modèle\n",
    "    M.fit(X_train, y_train)\n",
    "    \n",
    "    print(M) # Vérification que le model ait bien été loaded\n",
    "\n",
    "    # Labels prédits\n",
    "    y_pred = M.predict(X_test)\n",
    "\n",
    "    # Calcul du score avec y_test les labels réels\n",
    "    score = M.score(y_test, y_pred)\n",
    "\n",
    "    # Affichage du résultat\n",
    "    print(\"score =\", score)\n",
    "    \n",
    "    # Matrice de confusion sur ensemble apprentissage\n",
    "    print(\"Matrice de confusion sur ensemble apprentissage\")\n",
    "    M.confusion_matrix(X_train, y_train)\n",
    "    \n",
    "    # Matrice de confusion sur ensemble test\n",
    "    print(\"Matrice de confusion sur ensemble test\")\n",
    "    M.confusion_matrix(X_test, y_test)\n",
    "    \n",
    "    return score"
   ]
  },
  {
   "cell_type": "code",
   "execution_count": 4,
   "metadata": {},
   "outputs": [
    {
     "name": "stdout",
     "output_type": "stream",
     "text": [
      "n_iter=1/60\n",
      "n_pca=3, n_esti=3, score=0.8879654924514738\n",
      "time=89 sec\n",
      "n_iter=2/60\n",
      "n_pca=3, n_esti=4, score=0.8966642703091301\n",
      "time=203 sec\n",
      "n_iter=3/60\n",
      "n_pca=3, n_esti=9, score=0.9045363048166787\n",
      "time=450 sec\n",
      "n_iter=4/60\n",
      "n_pca=1, n_esti=10, score=0.5721135873472322\n",
      "time=720 sec\n",
      "n_iter=5/60\n",
      "n_pca=4, n_esti=5, score=0.9268871315600288\n",
      "time=864 sec\n",
      "n_iter=6/60\n",
      "n_pca=6, n_esti=6, score=0.9368727534148094\n",
      "time=1034 sec\n",
      "n_iter=7/60\n",
      "n_pca=6, n_esti=1, score=0.9417109992810927\n",
      "time=1071 sec\n",
      "n_iter=8/60\n",
      "n_pca=6, n_esti=5, score=0.9417613227893601\n",
      "time=1211 sec\n",
      "n_iter=9/60\n",
      "n_pca=2, n_esti=7, score=0.7512293314162473\n",
      "time=1408 sec\n",
      "n_iter=10/60\n",
      "n_pca=6, n_esti=9, score=0.9318835370237238\n",
      "time=1650 sec\n",
      "n_iter=11/60\n",
      "n_pca=1, n_esti=8, score=0.5757153127246585\n",
      "time=1867 sec\n",
      "n_iter=12/60\n",
      "n_pca=5, n_esti=10, score=0.9120704529115743\n",
      "time=2136 sec\n",
      "n_iter=13/60\n",
      "n_pca=4, n_esti=10, score=0.9130769230769231\n",
      "time=2399 sec\n",
      "n_iter=14/60\n",
      "n_pca=5, n_esti=4, score=0.9164629762760603\n",
      "time=2521 sec\n",
      "n_iter=15/60\n",
      "n_pca=2, n_esti=1, score=0.7609345794392524\n",
      "time=2559 sec\n",
      "n_iter=16/60\n",
      "n_pca=4, n_esti=7, score=0.9248166786484543\n",
      "time=2760 sec\n",
      "n_iter=17/60\n",
      "n_pca=4, n_esti=1, score=0.9264845434938892\n",
      "time=2798 sec\n",
      "n_iter=18/60\n",
      "n_pca=5, n_esti=8, score=0.9234723220704529\n",
      "time=3018 sec\n",
      "n_iter=19/60\n",
      "n_pca=6, n_esti=3, score=0.9410711718188354\n",
      "time=3107 sec\n",
      "n_iter=20/60\n",
      "n_pca=3, n_esti=8, score=0.8954924514737599\n",
      "time=3318 sec\n",
      "n_iter=21/60\n",
      "n_pca=5, n_esti=1, score=0.9254205607476635\n",
      "time=3355 sec\n",
      "n_iter=22/60\n",
      "n_pca=1, n_esti=4, score=0.5718475916606758\n",
      "time=3472 sec\n",
      "n_iter=23/60\n",
      "n_pca=1, n_esti=2, score=0.5716247304097771\n",
      "time=3531 sec\n",
      "n_iter=24/60\n",
      "n_pca=1, n_esti=9, score=0.5686484543493889\n",
      "time=3780 sec\n",
      "n_iter=25/60\n",
      "n_pca=5, n_esti=2, score=0.9166211358734723\n",
      "time=3845 sec\n",
      "n_iter=26/60\n",
      "n_pca=3, n_esti=5, score=0.8909849029475198\n",
      "time=3990 sec\n",
      "n_iter=27/60\n",
      "n_pca=4, n_esti=9, score=0.9230122214234363\n",
      "time=4234 sec\n",
      "n_iter=28/60\n",
      "n_pca=1, n_esti=7, score=0.5852336448598131\n",
      "time=4429 sec\n",
      "n_iter=29/60\n",
      "n_pca=6, n_esti=4, score=0.9381811646297628\n",
      "time=4546 sec\n",
      "n_iter=30/60\n",
      "n_pca=3, n_esti=6, score=0.8873903666427031\n",
      "time=4715 sec\n",
      "n_iter=31/60\n",
      "n_pca=2, n_esti=9, score=0.7564414090582317\n",
      "time=4965 sec\n",
      "n_iter=32/60\n",
      "n_pca=5, n_esti=5, score=0.9237598849748382\n",
      "time=5106 sec\n",
      "n_iter=33/60\n",
      "n_pca=6, n_esti=7, score=0.9370309130122215\n",
      "time=5299 sec\n",
      "n_iter=34/60\n",
      "n_pca=3, n_esti=10, score=0.9098346513299784\n",
      "time=5564 sec\n",
      "n_iter=35/60\n",
      "n_pca=6, n_esti=8, score=0.9326743350107836\n",
      "time=5790 sec\n",
      "n_iter=36/60\n",
      "n_pca=4, n_esti=8, score=0.9249676491732567\n",
      "time=6012 sec\n",
      "n_iter=37/60\n",
      "n_pca=2, n_esti=4, score=0.7536592379583034\n",
      "time=6133 sec\n",
      "n_iter=38/60\n",
      "n_pca=6, n_esti=2, score=0.9409489575844717\n",
      "time=6199 sec\n",
      "n_iter=39/60\n",
      "n_pca=2, n_esti=6, score=0.7646944644140906\n",
      "time=6366 sec\n",
      "n_iter=40/60\n",
      "n_pca=3, n_esti=7, score=0.8961322789360173\n",
      "time=6555 sec\n",
      "n_iter=41/60\n",
      "n_pca=2, n_esti=2, score=0.7582099209202013\n",
      "time=6617 sec\n",
      "n_iter=42/60\n",
      "n_pca=4, n_esti=4, score=0.9228037383177571\n",
      "time=6736 sec\n",
      "n_iter=43/60\n",
      "n_pca=3, n_esti=2, score=0.894291876347951\n",
      "time=6805 sec\n",
      "n_iter=44/60\n",
      "n_pca=1, n_esti=5, score=0.577606038820992\n",
      "time=6946 sec\n",
      "n_iter=45/60\n",
      "n_pca=1, n_esti=3, score=0.5738964773544213\n",
      "time=7039 sec\n",
      "n_iter=46/60\n",
      "n_pca=6, n_esti=10, score=0.9335154565061108\n",
      "time=7301 sec\n",
      "n_iter=47/60\n",
      "n_pca=2, n_esti=3, score=0.7456002875629044\n",
      "time=7393 sec\n",
      "n_iter=48/60\n",
      "n_pca=5, n_esti=9, score=0.9228037383177571\n",
      "time=7630 sec\n",
      "n_iter=49/60\n",
      "n_pca=5, n_esti=6, score=0.9215887850467288\n",
      "time=7802 sec\n",
      "n_iter=50/60\n",
      "n_pca=4, n_esti=2, score=0.9216103522645579\n",
      "time=7861 sec\n",
      "n_iter=51/60\n",
      "n_pca=2, n_esti=5, score=0.7571746944644141\n",
      "time=8004 sec\n",
      "n_iter=52/60\n",
      "n_pca=1, n_esti=6, score=0.5762473040977714\n",
      "time=8175 sec\n",
      "n_iter=53/60\n",
      "n_pca=2, n_esti=8, score=0.7532710280373832\n",
      "time=8395 sec\n",
      "n_iter=54/60\n",
      "n_pca=5, n_esti=3, score=0.9237958303378864\n",
      "time=8486 sec\n",
      "n_iter=55/60\n",
      "n_pca=5, n_esti=7, score=0.9186412652767794\n",
      "time=8678 sec\n",
      "n_iter=56/60\n",
      "n_pca=3, n_esti=1, score=0.8920488856937455\n",
      "time=8716 sec\n",
      "n_iter=57/60\n",
      "n_pca=2, n_esti=10, score=0.7496764917325665\n",
      "time=9005 sec\n",
      "n_iter=58/60\n",
      "n_pca=4, n_esti=3, score=0.9241624730409778\n",
      "time=9098 sec\n",
      "n_iter=59/60\n",
      "n_pca=1, n_esti=1, score=0.5764342199856218\n",
      "time=9132 sec\n",
      "n_iter=60/60\n",
      "n_pca=4, n_esti=6, score=0.9139324227174694\n",
      "time=9305 sec\n",
      "{'n_pca': 6, 'n_esti': 5, 'score': 0.9417613227893601}\n"
     ]
    }
   ],
   "source": [
    "# Optimisation du preprocessing à ne lancer qu'une seule fois\n",
    "# par son auteur (Maxime)\n",
    "warnings.filterwarnings('ignore')\n",
    "\n",
    "# Instance de model\n",
    "M = model()\n",
    "# Optimisation plus longue plus n_iter grand\n",
    "M.optimize_preprocess(X_train, y_train, X_test, y_test, verbose=True)\n",
    "# Sauvegarde du preprocess\n",
    "M.save()"
   ]
  },
  {
   "cell_type": "code",
   "execution_count": 5,
   "metadata": {},
   "outputs": [
    {
     "name": "stdout",
     "output_type": "stream",
     "text": [
      "Model reloaded from: ./_model.pickle\n",
      "{'bootstrap': [True, False], 'criterion': ['gini', 'entropy'], 'n_estimators': [10, 20, 30, 40, 50, 60, 70, 80, 90, 100, 110, 120, 130, 140, 150, 160, 170, 180, 190, 200, 210, 220, 230, 240, 250, 260, 270, 280, 290], 'max_depth': [1, 2, 3, 4, 5, 6, 7, 8, 9, None], 'min_samples_split': [2, 3, 4], 'min_samples_leaf': [1, 2, 3, 4], 'random_state': [1, 2, 3, 4, 5, 6, 7, 8, 9, 10, 11, 12, 13, 14, 15, 16, 17, 18, 19, 20, 21, 22, 23, 24, 25, 26, 27, 28, 29, 30, 31, 32, 33, 34, 35, 36, 37, 38, 39, 40, 41, 42, 43, 44, 45, 46, 47, 48, 49, 50, 51, 52, 53, 54, 55, 56, 57, 58, 59, 60, 61, 62, 63, 64, 65, 66, 67, 68, 69, 70, 71, 72, 73, 74, 75, 76, 77, 78, 79, 80, 81, 82, 83, 84, 85, 86, 87, 88, 89, 90, 91, 92, 93, 94, 95, 96, 97, 98, 99]}\n",
      "RandomForestClassifier(bootstrap=True, class_weight=None, criterion='entropy',\n",
      "            max_depth=9, max_features='auto', max_leaf_nodes=None,\n",
      "            min_impurity_decrease=0.0, min_impurity_split=None,\n",
      "            min_samples_leaf=2, min_samples_split=4,\n",
      "            min_weight_fraction_leaf=0.0, n_estimators=130, n_jobs=None,\n",
      "            oob_score=False, random_state=60, verbose=0, warm_start=False)\n"
     ]
    }
   ],
   "source": [
    "# Optimisation des hyperparamètres à ne lancer qu'une seule fois\n",
    "# par son auteur (Maxime)\n",
    "warnings.filterwarnings('ignore')\n",
    "\n",
    "# Instance de model\n",
    "M = model() \n",
    "# Optimisation plus longue plus n_iter grand\n",
    "M.optimize_model(X_train, y_train, n_iter=500)\n",
    "# Sauvegarde du modèle\n",
    "M.save()"
   ]
  },
  {
   "cell_type": "code",
   "execution_count": 6,
   "metadata": {},
   "outputs": [
    {
     "name": "stdout",
     "output_type": "stream",
     "text": [
      "Model reloaded from: ./_model.pickle\n",
      "0.954155283968368 0.9414306254493171\n"
     ]
    },
    {
     "ename": "AssertionError",
     "evalue": "",
     "output_type": "error",
     "traceback": [
      "\u001b[0;31m---------------------------------------------------------------------------\u001b[0m",
      "\u001b[0;31mAssertionError\u001b[0m                            Traceback (most recent call last)",
      "\u001b[0;32m<ipython-input-6-24c442e8fcae>\u001b[0m in \u001b[0;36m<module>\u001b[0;34m\u001b[0m\n\u001b[1;32m     13\u001b[0m \u001b[0moptimization_score\u001b[0m \u001b[0;34m=\u001b[0m \u001b[0mM\u001b[0m\u001b[0;34m.\u001b[0m\u001b[0mscoring_function\u001b[0m\u001b[0;34m(\u001b[0m\u001b[0my_test\u001b[0m\u001b[0;34m,\u001b[0m \u001b[0mM\u001b[0m\u001b[0;34m.\u001b[0m\u001b[0mclassifier\u001b[0m\u001b[0;34m.\u001b[0m\u001b[0mpredict\u001b[0m\u001b[0;34m(\u001b[0m\u001b[0mX\u001b[0m\u001b[0;34m)\u001b[0m\u001b[0;34m)\u001b[0m \u001b[0;31m# Score optimisé\u001b[0m\u001b[0;34m\u001b[0m\u001b[0;34m\u001b[0m\u001b[0m\n\u001b[1;32m     14\u001b[0m \u001b[0mprint\u001b[0m\u001b[0;34m(\u001b[0m\u001b[0msimple_score\u001b[0m\u001b[0;34m,\u001b[0m \u001b[0moptimization_score\u001b[0m\u001b[0;34m)\u001b[0m\u001b[0;34m\u001b[0m\u001b[0;34m\u001b[0m\u001b[0m\n\u001b[0;32m---> 15\u001b[0;31m \u001b[0;32massert\u001b[0m\u001b[0;34m(\u001b[0m\u001b[0msimple_score\u001b[0m \u001b[0;34m<=\u001b[0m \u001b[0moptimization_score\u001b[0m\u001b[0;34m)\u001b[0m \u001b[0;31m# Le score optimisé doit être supérieur\u001b[0m\u001b[0;34m\u001b[0m\u001b[0;34m\u001b[0m\u001b[0m\n\u001b[0m\u001b[1;32m     16\u001b[0m \u001b[0;34m\u001b[0m\u001b[0m\n\u001b[1;32m     17\u001b[0m \u001b[0;31m# Qualité du score avec les hyperparamètres optimisés\u001b[0m\u001b[0;34m\u001b[0m\u001b[0;34m\u001b[0m\u001b[0;34m\u001b[0m\u001b[0m\n",
      "\u001b[0;31mAssertionError\u001b[0m: "
     ]
    }
   ],
   "source": [
    "# Tests automatiques de l'optimisation\n",
    "warnings.filterwarnings('ignore')\n",
    "\n",
    "# Qualité du score avec le preprocessing optimisé\n",
    "M = model() # Instance\n",
    "M.classifier.fit(X_train, y_train) # Entraînement sans preprocessing\n",
    "simple_score = M.scoring_function(y_test, M.classifier.predict(X_test)) # Score simple\n",
    "M.preprocess = model().load().preprocess # Preprocessing manuel\n",
    "M.preprocess.fit(X_train) # suite du preprocessin\n",
    "X, y = M.preprocess.transform(X_train, y_train) # suite du preprocessing\n",
    "M.classifier.fit(X, y) # Entraînement avec preprocessing\n",
    "X, _ = M.preprocess.transform(X_test, y_test, remove_outliers = False)\n",
    "optimization_score = M.scoring_function(y_test, M.classifier.predict(X)) # Score optimisé\n",
    "print(simple_score, optimization_score)\n",
    "assert(simple_score <= optimization_score) # Le score optimisé doit être supérieur"
   ]
  },
  {
   "cell_type": "markdown",
   "metadata": {},
   "source": [
    "<div style=\"background:#FFFFAA\">\n",
    "    <p>\n",
    "        L'erreur ci-dessous est une erreur de test unitaire qui signifie que le score obtenu par le model après l'optimisation du preprocessing est moins bon que sans preprocessing. C'est un vrai problème qui pose question sur la méthode de preprocessing utilisé. L'optimisation a permis de déterminer les meilleurs paramètres pour réaliser le preprocessing. Mais malgré tout, on perd en qualité de score. Peut-être cependant, gagne-t-on en temps d'exécution par rapport à un jeu de données non-préprocessé ? À vérifier...\n",
    "    </p>\n",
    "</div>"
   ]
  },
  {
   "cell_type": "code",
   "execution_count": 5,
   "metadata": {},
   "outputs": [
    {
     "name": "stdout",
     "output_type": "stream",
     "text": [
      "Model reloaded from: ./_model.pickle\n",
      "Model reloaded from: ./_model.pickle\n",
      "time=110 sec\n",
      "0.933803019410496 0.9360963335729692\n"
     ]
    }
   ],
   "source": [
    "# Tests automatiques de l'optimisation\n",
    "warnings.filterwarnings('ignore')\n",
    "\n",
    "# Qualité du score avec les hyperparamètres optimisés\n",
    "M = model() # Instance\n",
    "M.preprocess =  model().load().preprocess # Preprocessing manuel\n",
    "M.preprocess.fit(X_train)\n",
    "X, y = M.preprocess.transform(X_train, y_train) # suite du preprocessing\n",
    "M.classifier.fit(X, y) # Juste pour le test\n",
    "X, _ = M.preprocess.transform(X_test, y_test, remove_outliers = False)\n",
    "simple_score = M.score(y_test, M.classifier.predict(X)) # Score sans optimisation\n",
    "M.fit(X_train, y_train) # Entrainement avec optimisation\n",
    "optimization_score = M.score(y_test, M.predict(X_test)) # Score avec optimisation\n",
    "print(simple_score, optimization_score)\n",
    "assert(simple_score <= optimization_score) # Le score optimisé doit être supérieur"
   ]
  },
  {
   "cell_type": "markdown",
   "metadata": {},
   "source": [
    "<div style=\"background:#FFFFAA\">\n",
    "    <p>\n",
    "        Ici, on ne rencontre pas d'erreur. Ce qui signifie que l'optimisation des hyperparamètres est vraiment utile. Cependant, c'est une contribution relativement faible qui ajoute de l'ordre de quelques millièmes de points au score. C'est toujours ça de gagné !\n",
    "    </p>\n",
    "</div>"
   ]
  },
  {
   "cell_type": "code",
   "execution_count": 12,
   "metadata": {},
   "outputs": [
    {
     "name": "stdout",
     "output_type": "stream",
     "text": [
      "classifier__bootstrap = True\n",
      "classifier__criterion = gini\n",
      "classifier__n_estimators = 10\n",
      "classifier__max_depth = None\n",
      "classifier__min_samples_split = 2\n",
      "classifier__min_samples_leaf = 1\n",
      "classifier__random_state = None\n"
     ]
    },
    {
     "ename": "AssertionError",
     "evalue": "",
     "output_type": "error",
     "traceback": [
      "\u001b[0;31m---------------------------------------------------------------------------\u001b[0m",
      "\u001b[0;31mAssertionError\u001b[0m                            Traceback (most recent call last)",
      "\u001b[0;32m<ipython-input-12-bde6e69a2565>\u001b[0m in \u001b[0;36m<module>\u001b[0;34m\u001b[0m\n\u001b[1;32m     15\u001b[0m \u001b[0;32mfor\u001b[0m \u001b[0mtp\u001b[0m \u001b[0;32min\u001b[0m \u001b[0mtested_params\u001b[0m\u001b[0;34m.\u001b[0m\u001b[0mkeys\u001b[0m\u001b[0;34m(\u001b[0m\u001b[0;34m)\u001b[0m\u001b[0;34m:\u001b[0m\u001b[0;34m\u001b[0m\u001b[0;34m\u001b[0m\u001b[0m\n\u001b[1;32m     16\u001b[0m     \u001b[0mprint\u001b[0m\u001b[0;34m(\u001b[0m\u001b[0;34m\"classifier__\"\u001b[0m\u001b[0;34m+\u001b[0m\u001b[0mtp\u001b[0m\u001b[0;34m,\u001b[0m \u001b[0;34m\"=\"\u001b[0m\u001b[0;34m,\u001b[0m \u001b[0mparams\u001b[0m\u001b[0;34m[\u001b[0m\u001b[0;34m\"classifier__\"\u001b[0m \u001b[0;34m+\u001b[0m \u001b[0mtp\u001b[0m\u001b[0;34m]\u001b[0m\u001b[0;34m)\u001b[0m\u001b[0;34m\u001b[0m\u001b[0;34m\u001b[0m\u001b[0m\n\u001b[0;32m---> 17\u001b[0;31m     \u001b[0;32massert\u001b[0m\u001b[0;34m(\u001b[0m\u001b[0mparams\u001b[0m\u001b[0;34m[\u001b[0m\u001b[0;34m\"classifier__\"\u001b[0m \u001b[0;34m+\u001b[0m \u001b[0mtp\u001b[0m\u001b[0;34m]\u001b[0m \u001b[0;32min\u001b[0m \u001b[0mtested_params\u001b[0m\u001b[0;34m[\u001b[0m\u001b[0mtp\u001b[0m\u001b[0;34m]\u001b[0m\u001b[0;34m)\u001b[0m\u001b[0;34m\u001b[0m\u001b[0;34m\u001b[0m\u001b[0m\n\u001b[0m",
      "\u001b[0;31mAssertionError\u001b[0m: "
     ]
    }
   ],
   "source": [
    "# Tests automatiques de l'optimisation\n",
    "warnings.filterwarnings('ignore')\n",
    "\n",
    "# Concordance des paramètres\n",
    "params = M.get_params() # Paramètres effectifs\n",
    "# Paramètres testés\n",
    "tested_params={'bootstrap':[True,False],\n",
    "               'criterion':[\"gini\", \"entropy\"], \n",
    "               'n_estimators':[i for i in range(10,300,10)], \n",
    "               'max_depth':[i for i in range(1,10)]+[None], \n",
    "               'min_samples_split':[i for i in range(2,5)], \n",
    "               'min_samples_leaf':[i for i in range(1,5)],\n",
    "               'random_state':[i for i in range(1,100)]}\n",
    "\n",
    "for tp in tested_params.keys():\n",
    "    print(\"classifier__\"+tp, \"=\", params[\"classifier__\" + tp])\n",
    "    assert(params[\"classifier__\" + tp] in tested_params[tp])"
   ]
  },
  {
   "cell_type": "markdown",
   "metadata": {},
   "source": [
    "<div style=\"background:#FFFFAA\">\n",
    "    <p>\n",
    "       Cette erreur laisse penser qu'il y a eu un problème au niveau de l'enregistrement ou du chargement du model après l'optimisation de ses hyperparamètres. Il semblerait que le pickle ne fonctionne pas. Ce qui expliquerait bien des choses... En réalité, le modèle qu'on a sous les yeux n'est autre que le modèle par défaut...\n",
    "    </p>\n",
    "</div>"
   ]
  },
  {
   "cell_type": "code",
   "execution_count": 19,
   "metadata": {},
   "outputs": [
    {
     "name": "stdout",
     "output_type": "stream",
     "text": [
      "{'classifier__bootstrap': True, 'classifier__class_weight': None, 'classifier__criterion': 'gini', 'classifier__max_depth': None, 'classifier__max_features': 'auto', 'classifier__max_leaf_nodes': None, 'classifier__min_impurity_decrease': 0.0, 'classifier__min_impurity_split': None, 'classifier__min_samples_leaf': 1, 'classifier__min_samples_split': 2, 'classifier__min_weight_fraction_leaf': 0.0, 'classifier__n_estimators': 10, 'classifier__n_jobs': None, 'classifier__oob_score': False, 'classifier__random_state': None, 'classifier__verbose': 0, 'classifier__warm_start': False, 'classifier': RandomForestClassifier(bootstrap=True, class_weight=None, criterion='gini',\n",
      "            max_depth=None, max_features='auto', max_leaf_nodes=None,\n",
      "            min_impurity_decrease=0.0, min_impurity_split=None,\n",
      "            min_samples_leaf=1, min_samples_split=2,\n",
      "            min_weight_fraction_leaf=0.0, n_estimators=10, n_jobs=None,\n",
      "            oob_score=False, random_state=None, verbose=0,\n",
      "            warm_start=False)}\n",
      "Model reloaded from: ./_model.pickle\n",
      "{'classifier__bootstrap': True, 'classifier__class_weight': None, 'classifier__criterion': 'gini', 'classifier__max_depth': None, 'classifier__max_features': 'auto', 'classifier__max_leaf_nodes': None, 'classifier__min_impurity_decrease': 0.0, 'classifier__min_impurity_split': None, 'classifier__min_samples_leaf': 1, 'classifier__min_samples_split': 2, 'classifier__min_weight_fraction_leaf': 0.0, 'classifier__n_estimators': 10, 'classifier__n_jobs': None, 'classifier__oob_score': False, 'classifier__random_state': None, 'classifier__verbose': 0, 'classifier__warm_start': False, 'classifier': RandomForestClassifier(bootstrap=True, class_weight=None, criterion='gini',\n",
      "            max_depth=None, max_features='auto', max_leaf_nodes=None,\n",
      "            min_impurity_decrease=0.0, min_impurity_split=None,\n",
      "            min_samples_leaf=1, min_samples_split=2,\n",
      "            min_weight_fraction_leaf=0.0, n_estimators=10, n_jobs=None,\n",
      "            oob_score=False, random_state=None, verbose=0,\n",
      "            warm_start=False)}\n"
     ]
    },
    {
     "ename": "AssertionError",
     "evalue": "",
     "output_type": "error",
     "traceback": [
      "\u001b[0;31m---------------------------------------------------------------------------\u001b[0m",
      "\u001b[0;31mAssertionError\u001b[0m                            Traceback (most recent call last)",
      "\u001b[0;32m<ipython-input-19-8a430cfb662d>\u001b[0m in \u001b[0;36m<module>\u001b[0;34m\u001b[0m\n\u001b[1;32m      5\u001b[0m \u001b[0mparams2\u001b[0m \u001b[0;34m=\u001b[0m \u001b[0mM\u001b[0m\u001b[0;34m.\u001b[0m\u001b[0mget_params\u001b[0m\u001b[0;34m(\u001b[0m\u001b[0;34m)\u001b[0m\u001b[0;34m\u001b[0m\u001b[0;34m\u001b[0m\u001b[0m\n\u001b[1;32m      6\u001b[0m \u001b[0mprint\u001b[0m\u001b[0;34m(\u001b[0m\u001b[0mparams1\u001b[0m\u001b[0;34m)\u001b[0m\u001b[0;34m\u001b[0m\u001b[0;34m\u001b[0m\u001b[0m\n\u001b[0;32m----> 7\u001b[0;31m \u001b[0;32massert\u001b[0m\u001b[0;34m(\u001b[0m\u001b[0mparams1\u001b[0m \u001b[0;34m!=\u001b[0m \u001b[0mparams2\u001b[0m\u001b[0;34m)\u001b[0m\u001b[0;34m\u001b[0m\u001b[0;34m\u001b[0m\u001b[0m\n\u001b[0m",
      "\u001b[0;31mAssertionError\u001b[0m: "
     ]
    }
   ],
   "source": [
    "M = model()\n",
    "params1 = M.get_params()\n",
    "print(params1)\n",
    "M.load()\n",
    "params2 = M.get_params()\n",
    "print(params1)\n",
    "assert(params1 != params2)"
   ]
  },
  {
   "cell_type": "markdown",
   "metadata": {},
   "source": [
    "<div style=\"background:#FFFFAA\">\n",
    "    <p>\n",
    "       Le problème se confirme pour de bon... Nous travaillerons à résoudre ce problème pour la prochaine fois.\n",
    "    </p>\n",
    "</div>"
   ]
  },
  {
   "cell_type": "code",
   "execution_count": 4,
   "metadata": {},
   "outputs": [
    {
     "name": "stdout",
     "output_type": "stream",
     "text": [
      "Model reloaded from: ./_model.pickle\n",
      "time=110 sec\n",
      "model(classifier=RandomForestClassifier(bootstrap=True, class_weight=None, criterion='gini',\n",
      "            max_depth=None, max_features='auto', max_leaf_nodes=None,\n",
      "            min_impurity_decrease=0.0, min_impurity_split=None,\n",
      "            min_samples_leaf=1, min_samples_split=2,\n",
      "            min_weight_fraction_leaf=0.0, n_estimators=10, n_jobs=None,\n",
      "            oob_score=False, random_state=None, verbose=0,\n",
      "            warm_start=False))\n",
      "score = 0.9349532710280374\n",
      "Matrice de confusion sur ensemble apprentissage\n"
     ]
    },
    {
     "data": {
      "image/png": "[encoded data removed]",
      "text/plain": [
       "<Figure size 432x288 with 2 Axes>"
      ]
     },
     "metadata": {
      "needs_background": "light"
     },
     "output_type": "display_data"
    },
    {
     "name": "stdout",
     "output_type": "stream",
     "text": [
      "Matrice de confusion sur ensemble test\n"
     ]
    },
    {
     "data": {
      "image/png": "[encoded data removed]",
      "text/plain": [
       "<Figure size 432x288 with 2 Axes>"
      ]
     },
     "metadata": {
      "needs_background": "light"
     },
     "output_type": "display_data"
    },
    {
     "data": {
      "text/plain": [
       "0.9349532710280374"
      ]
     },
     "execution_count": 4,
     "metadata": {},
     "output_type": "execute_result"
    }
   ],
   "source": [
    "warnings.filterwarnings('ignore')\n",
    "codalab()"
   ]
  },
  {
   "cell_type": "code",
   "execution_count": null,
   "metadata": {},
   "outputs": [],
   "source": []
  }
 ],
 "metadata": {
  "kernelspec": {
   "display_name": "Python 3",
   "language": "python",
   "name": "python3"
  },
  "language_info": {
   "codemirror_mode": {
    "name": "ipython",
    "version": 3
   },
   "file_extension": ".py",
   "mimetype": "text/x-python",
   "name": "python",
   "nbconvert_exporter": "python",
   "pygments_lexer": "ipython3",
   "version": "3.7.3"
  }
 },
 "nbformat": 4,
 "nbformat_minor": 2
}
